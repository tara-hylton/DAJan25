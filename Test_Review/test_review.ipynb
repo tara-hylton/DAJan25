{
 "cells": [
  {
   "cell_type": "markdown",
   "id": "58d5ab53",
   "metadata": {},
   "source": [
    "## Review of Module 2 Exam\n",
    "Jan 2025"
   ]
  },
  {
   "cell_type": "markdown",
   "id": "6f665b73",
   "metadata": {},
   "source": [
    "Data obtained from https://www.kaggle.com/datasets/wellkilo/supermarket-dataset?resource=download"
   ]
  },
  {
   "cell_type": "code",
   "execution_count": null,
   "id": "de048ac4",
   "metadata": {},
   "outputs": [],
   "source": [
    "#imports needed\n",
    "import pandas as pd\n",
    "import matplotlib.pyplot as plt"
   ]
  },
  {
   "cell_type": "markdown",
   "id": "7c78487e",
   "metadata": {},
   "source": [
    "### Importing the Data"
   ]
  },
  {
   "cell_type": "code",
   "execution_count": null,
   "id": "73115eb5",
   "metadata": {},
   "outputs": [],
   "source": [
    "#Reading an excel sheet, not a csv. May require downloading a pyxl extension.\n",
    "shopping_data = pd.read_excel(\"().xlsx\")\n",
    "shopping_data"
   ]
  },
  {
   "cell_type": "markdown",
   "id": "9d7529f1",
   "metadata": {},
   "source": [
    "#### Gathering the size of this dataset"
   ]
  },
  {
   "cell_type": "code",
   "execution_count": null,
   "id": "8e539d80",
   "metadata": {},
   "outputs": [],
   "source": [
    "#This can be used to answer:\n",
    "# How many rows are in the dataset? <First number>\n",
    "# How many columns are in the dataset? <Second number>\n",
    "\n",
    "shopping_data.shape\n",
    "\n",
    "# Tip: If you need to just return the row or the columns, you can access these by shopping_data.shape[<index 0 for row or index 1 for column>]\n",
    "# We can perform this operation because the type of the .shape result is a tuple.\n",
    "\n",
    "# type(shopping_data.shape)\n",
    "# Returns the number of columns\n",
    "# shopping_data.shape[1]"
   ]
  },
  {
   "cell_type": "markdown",
   "id": "09715a67",
   "metadata": {},
   "source": [
    "#### Getting general information from the data"
   ]
  },
  {
   "cell_type": "code",
   "execution_count": null,
   "id": "cbd29907",
   "metadata": {},
   "outputs": [],
   "source": [
    "# This can be used to answer:\n",
    "# How many null values are in this dataset?\n",
    "\n",
    "# Info can be used to view the column names, index number, how many non-null objects are in the dataset, and the datatype of each column.\n",
    "# We know there are 9994 rows in this dataset, so we would add up the number of non-nulls. This isn't the most efficient way, though.\n",
    "\n",
    "shopping_data.info()"
   ]
  },
  {
   "cell_type": "code",
   "execution_count": null,
   "id": "49a1e8ca",
   "metadata": {},
   "outputs": [],
   "source": [
    "# Better method of finding how many null values are in the dataset:\n",
    "\n",
    "null_count = shopping_data.isnull()\n",
    "print(null_count.sum())"
   ]
  },
  {
   "cell_type": "code",
   "execution_count": null,
   "id": "12f91553",
   "metadata": {},
   "outputs": [],
   "source": [
    "# What should be the correct type for Postal Code? Here, postal code is showing as an integer, \n",
    "# BUT the actual purpose of a zip code is to localize the area and post-office your mail routes to. \n",
    "# Thus, we will not be using this data as a number and want to avoid accidentally performing operations\n",
    "# on this. "
   ]
  },
  {
   "cell_type": "code",
   "execution_count": null,
   "id": "13cf7b0d",
   "metadata": {},
   "outputs": [],
   "source": [
    "# What should be the correct type for Postal Code? Here, postal code is showing as an integer, \n",
    "# BUT the actual purpose of a zip code is to localize the area and post-office your mail routes to. \n",
    "# Thus, we will not be using this data as a number and want to avoid accidentally performing operations\n",
    "# on this. \n",
    "\n",
    "#This can be used to answer:\n",
    "# What is the smallest profit ratio? >> Remember a ratio is also a percentage!\n",
    "# What is the average discount offered?\n",
    "\n",
    "#Describe can be used to show summary statistics on the quantitative variables in the dataset.\n",
    "\n",
    "shopping_data.describe()"
   ]
  },
  {
   "cell_type": "markdown",
   "id": "374fa446",
   "metadata": {},
   "source": [
    "#### General purpose references you can use while writing your charts and plots."
   ]
  },
  {
   "cell_type": "code",
   "execution_count": null,
   "id": "e83c186b",
   "metadata": {},
   "outputs": [],
   "source": [
    "# Returns column names including how they are currently spelled and case.\n",
    "shopping_data.columns"
   ]
  },
  {
   "cell_type": "code",
   "execution_count": null,
   "id": "bfea1879",
   "metadata": {},
   "outputs": [],
   "source": [
    "# Returns the data type of each column\n",
    "shopping_data.dtypes"
   ]
  },
  {
   "cell_type": "markdown",
   "id": "a252e1a1",
   "metadata": {},
   "source": [
    "#### Changing our datatypes!\n",
    "\n",
    "For our purposes, we notice that the profit and sales are both strings - we want them to be numbers!"
   ]
  },
  {
   "cell_type": "code",
   "execution_count": null,
   "id": "418433ba",
   "metadata": {},
   "outputs": [],
   "source": [
    "#Looking at the first row in the dataset, we notice that both of these values include '$' and ',', which prevents these values from being numbers.\n",
    "\n",
    "shopping_data.head(1)"
   ]
  },
  {
   "cell_type": "code",
   "execution_count": null,
   "id": "7a9b547f",
   "metadata": {},
   "outputs": [],
   "source": [
    "#Replaces the offending non-float-eligible characters with nothing, essentially removing them.\n",
    "\n",
    "shopping_data['Profit'] = shopping_data['Profit'].str.replace(\"$\", \"\")\n",
    "shopping_data['Profit'] = shopping_data['Profit'].str.replace(\",\", \"\")\n",
    "\n",
    "# Casting these values\n",
    "shopping_data['Profit'] = shopping_data['Profit'].astype(float)\n",
    "\n",
    "shopping_data.dtypes"
   ]
  },
  {
   "cell_type": "code",
   "execution_count": null,
   "id": "a9b37abe",
   "metadata": {},
   "outputs": [],
   "source": [
    "#Replaces the offending non-float-eligible characters with nothing, essentially removing them.\n",
    "\n",
    "shopping_data['Sales'] = shopping_data['Sales'].str.replace(\"$\", \"\")\n",
    "shopping_data['Sales'] = shopping_data['Sales'].str.replace(\",\", \"\")\n",
    "\n",
    "# Casting these values\n",
    "shopping_data['Sales'] = shopping_data['Sales'].astype(float)\n",
    "\n",
    "shopping_data.dtypes"
   ]
  },
  {
   "cell_type": "markdown",
   "id": "33e762b0",
   "metadata": {},
   "source": [
    "### How many states are in this dataset?"
   ]
  },
  {
   "cell_type": "code",
   "execution_count": null,
   "id": "63c48507",
   "metadata": {},
   "outputs": [],
   "source": [
    "shopping_data['State'].nunique()"
   ]
  },
  {
   "cell_type": "markdown",
   "id": "010397fa",
   "metadata": {},
   "source": [
    "### Which state has the most rows?"
   ]
  },
  {
   "cell_type": "code",
   "execution_count": null,
   "id": "ece2ad2c",
   "metadata": {},
   "outputs": [],
   "source": [
    "# This groups our data by state and counts how many rows there are for state. Then, we find the one largest value that results from this.\n",
    "\n",
    "shopping_data_by_state = shopping_data.groupby('State')['State'].count().nlargest(1)\n",
    "shopping_data_by_state"
   ]
  },
  {
   "cell_type": "markdown",
   "id": "e3b4e2a6",
   "metadata": {},
   "source": [
    "### Which year saw the most items sold?"
   ]
  },
  {
   "cell_type": "code",
   "execution_count": null,
   "id": "6c1917ef",
   "metadata": {},
   "outputs": [],
   "source": [
    "# Separating the columns we need\n",
    "shopping_data_by_year = shopping_data[['Order Date', 'Product Name', 'Quantity']]\n",
    "\n",
    "# Create a new column with just the year\n",
    "shopping_data_by_year['order_year'] = shopping_data_by_year['Order Date'].dt.year\n",
    "\n",
    "shopping_data_by_year_grouped = shopping_data_by_year.groupby('order_year')['Quantity'].sum()\n",
    "shopping_data_by_year_grouped = shopping_data_by_year_grouped.reset_index()\n",
    "shopping_data_by_year_grouped = shopping_data_by_year_grouped.sort_values('Quantity', ascending=False)\n",
    "shopping_data_by_year_grouped"
   ]
  },
  {
   "cell_type": "markdown",
   "id": "e8573709",
   "metadata": {},
   "source": [
    "### Which graph accurately represents the top 5 products that have generated the most profit from the greatest profit to the least profit?"
   ]
  },
  {
   "cell_type": "code",
   "execution_count": null,
   "id": "38a5439f",
   "metadata": {},
   "outputs": [],
   "source": [
    "# Make a copy of the data that you need to accomplish this task in another dataframe so that we don't accidentally manipulate the original data.\n",
    "shopping_data_product = shopping_data[['Product Name', 'Profit']]\n",
    "\n",
    "# Group by product name and add the profits together so we can determine the profit for each.\n",
    "shopping_data_product_grouped = shopping_data_product.groupby('Product Name')['Profit'].sum()\n",
    "shopping_data_product_grouped = shopping_data_product_grouped.reset_index()\n",
    "\n",
    "# Sort from highest profit to lowest profit\n",
    "shopping_data_product_highest_profit = shopping_data_product_grouped.sort_values('Profit', ascending=False)\n",
    "\n",
    "product_highest_profit = shopping_data_product_highest_profit.head(5)\n",
    "\n",
    "# Plot only the first 5\n",
    "plt.bar(product_highest_profit['Product Name'], product_highest_profit['Profit'])\n",
    "\n",
    "# plt.xlabel(None)\n",
    "\n",
    "# Creates labels that appear above the bars with the value\n",
    "for product in product_highest_profit['Product Name']:\n",
    "    label = product_highest_profit.loc[product_highest_profit['Product Name'] == product, 'Profit'].item()\n",
    "    plt.text(product, label, str(label), ha='center', va='bottom')"
   ]
  },
  {
   "cell_type": "markdown",
   "id": "38eb77ae",
   "metadata": {},
   "source": [
    "### Which is the correct figure that represents the trend of the discount percentage and total profits?"
   ]
  },
  {
   "cell_type": "code",
   "execution_count": null,
   "id": "139c52f9",
   "metadata": {},
   "outputs": [],
   "source": [
    "# Creates a scatterplot (shows relationship between two quantitative values) with the discount on x and the profit on y\n",
    "\n",
    "plt.scatter(shopping_data['Discount'], shopping_data['Profit'])\n",
    "\n"
   ]
  },
  {
   "cell_type": "markdown",
   "id": "21e600ae",
   "metadata": {},
   "source": [
    "### Excluding 0, which discount percentage yields the most amount of items sold? Which product had the largest quantity sold with this discount? What is the qty sold with this discount?"
   ]
  },
  {
   "cell_type": "code",
   "execution_count": null,
   "id": "ef9ac363",
   "metadata": {},
   "outputs": [],
   "source": [
    "#New dataframe with the values we need for this\n",
    "shopping_data_highest_discount = shopping_data[['Product Name', 'Discount', 'Quantity']]\n",
    "\n",
    "# Finding the discount with the most amount of items\n",
    "shopping_data_highest_discount_count = shopping_data_highest_discount.groupby('Discount')['Quantity'].sum()\n",
    "shopping_data_highest_discount_count = shopping_data_highest_discount_count.reset_index()\n",
    "shopping_data_highest_discount_count = shopping_data_highest_discount_count.sort_values('Quantity', ascending=False)\n",
    "\n",
    "shopping_data_highest_discount_count"
   ]
  },
  {
   "cell_type": "code",
   "execution_count": null,
   "id": "6697bda1",
   "metadata": {},
   "outputs": [],
   "source": [
    "# Now finding the products sold with this discount.\n",
    "\n",
    "shopping_data_twenty = shopping_data_highest_discount[shopping_data_highest_discount['Discount'] == 0.20]\n",
    "twenty_product_qty = shopping_data_twenty.groupby('Product Name')['Quantity'].sum()\n",
    "twenty_product_qty = twenty_product_qty.reset_index()\n",
    "twenty_product_sorted = twenty_product_qty.sort_values('Quantity', ascending=False)\n",
    "twenty_product_sorted"
   ]
  },
  {
   "cell_type": "markdown",
   "id": "a7890f60",
   "metadata": {},
   "source": [
    "### Which graph most represents the trend of sales for each month in 2013?"
   ]
  },
  {
   "cell_type": "code",
   "execution_count": null,
   "id": "cba082a6",
   "metadata": {},
   "outputs": [],
   "source": [
    "# Creating a dataset with only orders from 2013\n",
    "shopping_data_2013 = shopping_data[shopping_data['Order Date'].dt.year == 2013]\n",
    "\n",
    "# Creating a 'Month' column\n",
    "shopping_data_2013['Month'] = shopping_data_2013['Order Date'].dt.month\n",
    "\n",
    "# Plotting the data\n",
    "monthly_shopping_data_2013 = shopping_data_2013[['Month', 'Product Name', 'Quantity']]\n",
    "monthly_shopping_data_2013 = monthly_shopping_data_2013.groupby('Month')['Quantity'].sum()\n",
    "monthly_shopping_data_2013 = monthly_shopping_data_2013.reset_index()\n",
    "monthly_shopping_data_2013 = monthly_shopping_data_2013.sort_values('Month')\n",
    "\n",
    "plt.plot(monthly_shopping_data_2013['Month'], monthly_shopping_data_2013['Quantity'], label='Line')\n",
    "\n",
    "for month in monthly_shopping_data_2013['Month']:\n",
    "    label = monthly_shopping_data_2013.loc[monthly_shopping_data_2013['Month'] == month, 'Quantity'].item()\n",
    "    plt.text(month, label, str(label), ha='center', va='bottom')"
   ]
  }
 ],
 "metadata": {
  "kernelspec": {
   "display_name": "Python 3",
   "language": "python",
   "name": "python3"
  },
  "language_info": {
   "codemirror_mode": {
    "name": "ipython",
    "version": 3
   },
   "file_extension": ".py",
   "mimetype": "text/x-python",
   "name": "python",
   "nbconvert_exporter": "python",
   "pygments_lexer": "ipython3",
   "version": "3.12.1"
  }
 },
 "nbformat": 4,
 "nbformat_minor": 5
}
