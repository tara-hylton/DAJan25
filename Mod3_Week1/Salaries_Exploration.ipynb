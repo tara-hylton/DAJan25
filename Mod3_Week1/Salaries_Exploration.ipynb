{
 "cells": [
  {
   "cell_type": "code",
   "execution_count": null,
   "id": "0e193762",
   "metadata": {},
   "outputs": [],
   "source": [
    "import sqlite3"
   ]
  },
  {
   "cell_type": "markdown",
   "id": "7e5c3fd1",
   "metadata": {},
   "source": [
    "With sqlite in Python, there is a library called sqlite3 which allows you to parse databases.\n",
    "\n",
    "First, you need to create a connection to the database file, in our case is 'database.sqltie'.\n",
    "\n",
    "Next, you need to create an actual cursor, which will enter the commands you specify into the database."
   ]
  },
  {
   "cell_type": "code",
   "execution_count": null,
   "id": "72ab7b95",
   "metadata": {},
   "outputs": [],
   "source": [
    "conn = sqlite3.connect(\"database.sqlite\")"
   ]
  },
  {
   "cell_type": "code",
   "execution_count": null,
   "id": "6ff2472a",
   "metadata": {},
   "outputs": [],
   "source": [
    "cursor = conn.cursor()"
   ]
  },
  {
   "cell_type": "markdown",
   "id": "75207054",
   "metadata": {},
   "source": [
    "This is a completely new database we are working with. To even use a basic select statement, we need to know what there is to query.\n",
    "\n",
    "Luckily, in sqlite, there is ALWAYS a table that stores the schema (the organization of your database), including table names!\n",
    "\n",
    "The query for this is:\n",
    "\n",
    "```SQLITE\n",
    "SELECT name FROM sqlite_master WHERE type='table';\n",
    "```"
   ]
  },
  {
   "cell_type": "markdown",
   "id": "5260d4a4",
   "metadata": {},
   "source": [
    "To execute this statement, you need to use the cursor.execute command and put your command in quotation marks as an argument. If you separate the command on multiple lines, you will need to use triple quotes.\n",
    "\n",
    "On execution, the returned data will automatically be stored inside the cursor. To access this data, you'll need to run cursor.fetchall()."
   ]
  },
  {
   "cell_type": "code",
   "execution_count": null,
   "id": "3715c76a",
   "metadata": {},
   "outputs": [],
   "source": [
    "cursor.execute(\"SELECT name FROM sqlite_master WHERE type='table';\")\n",
    "\n",
    "cursor.fetchall()"
   ]
  },
  {
   "cell_type": "markdown",
   "id": "5235d606",
   "metadata": {},
   "source": [
    "---"
   ]
  },
  {
   "cell_type": "markdown",
   "id": "bf18ac43",
   "metadata": {},
   "source": [
    "#### Exercise: Use the cursor.description command to find the column names in your Salaries table"
   ]
  },
  {
   "cell_type": "code",
   "execution_count": null,
   "id": "bad19f38",
   "metadata": {},
   "outputs": [],
   "source": []
  },
  {
   "cell_type": "markdown",
   "id": "4d12a0e9",
   "metadata": {},
   "source": [
    "---"
   ]
  },
  {
   "cell_type": "markdown",
   "id": "d140d2b6",
   "metadata": {},
   "source": [
    "We can use a similar method to find both the column names and their data types from the sqlite_master table:\n",
    "\n",
    "```sqlite\n",
    "SELECT sql FROM sqlite_master WHERE name = '<table name>';\n",
    "```\n",
    "\n",
    "hint: you can iterate through SQL results using a regular for statement, much like going through a list."
   ]
  },
  {
   "cell_type": "code",
   "execution_count": null,
   "id": "7e08aa6d",
   "metadata": {},
   "outputs": [],
   "source": [
    "cursor.execute(\"SELECT sql FROM sqlite_master WHERE name = 'Salaries'\")\n",
    "\n",
    "results = cursor.fetchall()\n",
    "\n",
    "#In this particular case, this query is returning a command across multiple lines and not a regular list of rows.\n",
    "# Because of this, we need to use a nested for loop.\n",
    "for result in results:\n",
    "    for row in result:\n",
    "        print(row)\n"
   ]
  },
  {
   "cell_type": "markdown",
   "id": "0ccef774",
   "metadata": {},
   "source": [
    "As we are executing queries, we can also find the datatype of a single column by using typeof.\n",
    "\n",
    "```sqlite\n",
    "SELECT typeof(<column_name>) FROM <table_name>;\n",
    "```"
   ]
  },
  {
   "cell_type": "markdown",
   "id": "970e69b6",
   "metadata": {},
   "source": [
    "---"
   ]
  },
  {
   "cell_type": "markdown",
   "id": "b26206f7",
   "metadata": {},
   "source": [
    "#### Exercise: Use the typeof query to find the column type for the 'Benefits' column."
   ]
  },
  {
   "cell_type": "code",
   "execution_count": null,
   "id": "4cf6694d",
   "metadata": {},
   "outputs": [],
   "source": []
  },
  {
   "cell_type": "markdown",
   "id": "fb8f898a",
   "metadata": {},
   "source": [
    "---"
   ]
  },
  {
   "cell_type": "markdown",
   "id": "3343f3b7",
   "metadata": {},
   "source": [
    "### Practice Problems"
   ]
  },
  {
   "cell_type": "markdown",
   "id": "9c3774cc",
   "metadata": {},
   "source": [
    "#### How many rows are in this table?"
   ]
  },
  {
   "cell_type": "code",
   "execution_count": null,
   "id": "369ff422",
   "metadata": {},
   "outputs": [],
   "source": []
  },
  {
   "cell_type": "markdown",
   "id": "a683335a",
   "metadata": {},
   "source": [
    "#### Are there any potential duplicate employees? If so, remove them from the table."
   ]
  },
  {
   "cell_type": "code",
   "execution_count": null,
   "id": "1849e0e0",
   "metadata": {},
   "outputs": [],
   "source": []
  },
  {
   "cell_type": "markdown",
   "id": "a28a721c",
   "metadata": {},
   "source": [
    "#### How many employees do not get overtime pay?"
   ]
  },
  {
   "cell_type": "code",
   "execution_count": null,
   "id": "809dbd71",
   "metadata": {},
   "outputs": [],
   "source": []
  },
  {
   "cell_type": "markdown",
   "id": "fc754f35",
   "metadata": {},
   "source": [
    "#### How many employees for each status does not get Overtime Pay?"
   ]
  },
  {
   "cell_type": "code",
   "execution_count": null,
   "id": "296fd358",
   "metadata": {},
   "outputs": [],
   "source": []
  },
  {
   "cell_type": "markdown",
   "id": "df28ec8f",
   "metadata": {},
   "source": [
    "#### How many employees for each status does not get Other Pay?"
   ]
  },
  {
   "cell_type": "code",
   "execution_count": null,
   "id": "a3052241",
   "metadata": {},
   "outputs": [],
   "source": []
  },
  {
   "cell_type": "markdown",
   "id": "e0193e54",
   "metadata": {},
   "source": [
    "#### How many employees for each status do not get Benefits?"
   ]
  },
  {
   "cell_type": "code",
   "execution_count": null,
   "id": "cdf35194",
   "metadata": {},
   "outputs": [],
   "source": []
  },
  {
   "cell_type": "markdown",
   "id": "ee275d61",
   "metadata": {},
   "source": [
    "#### There is one FT employee who does not have benefits, pull up their data."
   ]
  },
  {
   "cell_type": "code",
   "execution_count": null,
   "id": "8a1b740d",
   "metadata": {},
   "outputs": [],
   "source": []
  },
  {
   "cell_type": "markdown",
   "id": "f9469143",
   "metadata": {},
   "source": [
    "#### Let's assume that any employee who does not get benefits is PT. Please update the database accordingly."
   ]
  },
  {
   "cell_type": "code",
   "execution_count": null,
   "id": "e3092432",
   "metadata": {},
   "outputs": [],
   "source": []
  },
  {
   "cell_type": "markdown",
   "id": "5d362619",
   "metadata": {},
   "source": [
    "#### Re-execute the statement that shows us how many of each employee we have for each status."
   ]
  },
  {
   "cell_type": "code",
   "execution_count": null,
   "id": "65e8583b",
   "metadata": {},
   "outputs": [],
   "source": []
  },
  {
   "cell_type": "markdown",
   "id": "d196d1aa",
   "metadata": {},
   "source": [
    "#### How many employees do not have a base salary or job title?"
   ]
  },
  {
   "cell_type": "code",
   "execution_count": null,
   "id": "3603e566",
   "metadata": {},
   "outputs": [],
   "source": []
  },
  {
   "cell_type": "markdown",
   "id": "9cb0e73b",
   "metadata": {},
   "source": [
    "#### How many PT employees do not get any compensation other than base pay?"
   ]
  },
  {
   "cell_type": "code",
   "execution_count": null,
   "id": "a8b5dddc",
   "metadata": {},
   "outputs": [],
   "source": []
  },
  {
   "cell_type": "markdown",
   "id": "8f1dde41",
   "metadata": {},
   "source": [
    "#### Are there more FT or PT employees that get overtime pay?"
   ]
  },
  {
   "cell_type": "code",
   "execution_count": null,
   "id": "b7a6d5b7",
   "metadata": {},
   "outputs": [],
   "source": []
  },
  {
   "cell_type": "markdown",
   "id": "f91bfc37",
   "metadata": {},
   "source": [
    "#### Which employee has the highest base pay?"
   ]
  },
  {
   "cell_type": "code",
   "execution_count": null,
   "id": "241c6ff4",
   "metadata": {},
   "outputs": [],
   "source": []
  },
  {
   "cell_type": "markdown",
   "id": "b12d9cd9",
   "metadata": {},
   "source": [
    "#### Which employee has the highest total pay?"
   ]
  },
  {
   "cell_type": "code",
   "execution_count": null,
   "id": "229a16f4",
   "metadata": {},
   "outputs": [],
   "source": []
  },
  {
   "cell_type": "markdown",
   "id": "16bda90e",
   "metadata": {},
   "source": [
    "#### How many employees are making > 100,000 base pay? What about total pay?"
   ]
  },
  {
   "cell_type": "code",
   "execution_count": null,
   "id": "db8d9001",
   "metadata": {},
   "outputs": [],
   "source": []
  },
  {
   "cell_type": "code",
   "execution_count": null,
   "id": "8715c766",
   "metadata": {},
   "outputs": [],
   "source": []
  },
  {
   "cell_type": "markdown",
   "id": "334ee8bd",
   "metadata": {},
   "source": [
    "#### Are there more FT or PT employees?"
   ]
  },
  {
   "cell_type": "code",
   "execution_count": null,
   "id": "95e702a8",
   "metadata": {},
   "outputs": [],
   "source": []
  },
  {
   "cell_type": "markdown",
   "id": "5445e23c",
   "metadata": {},
   "source": [
    "#### What is the average base pay for a FT employee? Be sure to round to two decimal places."
   ]
  },
  {
   "cell_type": "code",
   "execution_count": null,
   "id": "594f3ad5",
   "metadata": {},
   "outputs": [],
   "source": []
  },
  {
   "cell_type": "markdown",
   "id": "bb846f75",
   "metadata": {},
   "source": [
    "#### What is the average base pay for a PT employee?"
   ]
  },
  {
   "cell_type": "code",
   "execution_count": null,
   "id": "2e0c6e16",
   "metadata": {},
   "outputs": [],
   "source": []
  },
  {
   "cell_type": "markdown",
   "id": "a6aceaa2",
   "metadata": {},
   "source": [
    "#### With base pay, is more money typically spent on FT or PT employees?"
   ]
  },
  {
   "cell_type": "code",
   "execution_count": null,
   "id": "82c2f4c2",
   "metadata": {},
   "outputs": [],
   "source": []
  },
  {
   "cell_type": "markdown",
   "id": "38e88b58",
   "metadata": {},
   "source": [
    "#### With total pay, is more money typically spent on FT or PT employees?"
   ]
  },
  {
   "cell_type": "markdown",
   "id": "837e25bb",
   "metadata": {},
   "source": []
  },
  {
   "cell_type": "markdown",
   "id": "aeca58e8",
   "metadata": {},
   "source": []
  }
 ],
 "metadata": {
  "kernelspec": {
   "display_name": "Python 3",
   "language": "python",
   "name": "python3"
  },
  "language_info": {
   "codemirror_mode": {
    "name": "ipython",
    "version": 3
   },
   "file_extension": ".py",
   "mimetype": "text/x-python",
   "name": "python",
   "nbconvert_exporter": "python",
   "pygments_lexer": "ipython3",
   "version": "3.12.1"
  }
 },
 "nbformat": 4,
 "nbformat_minor": 5
}
