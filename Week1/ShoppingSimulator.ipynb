{
 "cells": [
  {
   "cell_type": "markdown",
   "metadata": {},
   "source": [
    "### Welcome to Code:You Week 1!\n",
    "\n",
    "This week, we are reviewing Python basics. Using what we learned in OpenClass, we are going to be working on a shopping simulator. Using a list of available shopping items, the user will be prompted to choose items they would like to add to their cart until they are done. Once they are done shopping, the cart total will be returned back to the user. This will put all of the skills you have learned this week to the test."
   ]
  },
  {
   "cell_type": "markdown",
   "metadata": {},
   "source": [
    "*Goal:*\n",
    "\n",
    "Users will be given a list of items, how many are available, and the price. They will be able to add things to their cart when prompted and the quantity. They will then be asked if they would like to add other items to their cart. Until they say no, the prompt will repeat. Once they say they are finished shopping, their cart total will be returned to them.\n",
    "\n",
    "Example:\n",
    "\n",
    "```\n",
    "Welcome to Code Mart!\n",
    "\n",
    "Here is a list of available products and their price:\n",
    "\n",
    "bananas\n",
    "Qty: 4 Price: 0.49\n",
    "\n",
    "ground beef\n",
    "Qty: 7 Price: 5.67\n",
    "\n",
    "Spam\n",
    "Qty: 5 Price: 1.62\n",
    "\n",
    "plastic wrap\n",
    "Qty: 3 Price: 5.99\n",
    "\n",
    "toilet paper\n",
    "Qty: 6 Price: 12.00\n",
    "\n",
    "What would you like to add to your cart?\n",
    "\n",
    "```\n",
    "\n",
    "-- bananas\n",
    "\n",
    "```\n",
    "How many?\n",
    "```\n",
    "\n",
    "-- 3\n",
    "\n",
    "```\n",
    "Cost: 1.47\n",
    "\n",
    "Would you like to add something else to your cart? (Y/N)\n",
    "```\n",
    "\n",
    "-- Y\n",
    "\n",
    "```\n",
    "Here is a list of available products and their price:\n",
    "\n",
    "bananas\n",
    "Qty: 1 Price: 0.49\n",
    "\n",
    "ground beef\n",
    "Qty: 7 Price: 5.67\n",
    "\n",
    "Spam\n",
    "Qty: 5 Price: 1.62\n",
    "\n",
    "plastic wrap\n",
    "Qty: 3 Price: 5.99\n",
    "\n",
    "toilet paper\n",
    "Qty: 6 Price: 12.00\n",
    "\n",
    "What would you like to add to your cart?\n",
    "```\n",
    "\n",
    "-- plastic wrap\n",
    "\n",
    "```\n",
    "How many?\n",
    "```\n",
    "\n",
    "-- 1\n",
    "\n",
    "```\n",
    "Cost: 5.99\n",
    "\n",
    "Would you like to add something else to your cart? (Y/N)\n",
    "```\n",
    "\n",
    "-- N\n",
    "\n",
    "```\n",
    "\n",
    "Thank you for shopping at Code Mart! Your total cost was 7.46.\n",
    "\n",
    "\n",
    "```"
   ]
  },
  {
   "cell_type": "markdown",
   "metadata": {},
   "source": [
    "### Creating the shopping list\n",
    "\n",
    "Before our users add items to the shopping cart, they will need to know what products and how many are available. Create a list of 5 products and decide how many are in your store and how much they cost, then fill out the code below. Replace \"Product#\" with your product."
   ]
  },
  {
   "cell_type": "code",
   "execution_count": null,
   "metadata": {},
   "outputs": [],
   "source": [
    "bananas = 'bananas'\n",
    "bananasPrice = 0.49\n",
    "bananasQty = 4\n",
    "\n",
    "# Example:\n",
    "# bananas = 'bananas'\n",
    "# bananasPrice = 0.49\n",
    "# bananasQty = 4\n",
    "\n",
    "groundBeef = 'ground beef'\n",
    "groundBeefPrice = 5.67\n",
    "groundBeefQty = 7\n",
    "\n",
    "Spam = 'Spam'\n",
    "SpamPrice = 1.62\n",
    "SpamQty = 5\n",
    "\n",
    "plasticWrap = 'plastic wrap'\n",
    "plasticWrapPrice = 5.99\n",
    "plasticWrapQty = 3\n",
    "\n",
    "toiletPaper = 'toilet paper'\n",
    "toiletPaperPrice = 12.00\n",
    "toiletPaperQty = 6"
   ]
  },
  {
   "cell_type": "markdown",
   "metadata": {},
   "source": [
    "It is always good practice to create specific variable names that are true to their purpose. In this case, both you and others will be able to look back on the code and tell what the variables are used for. Python is not a *typed* language. Because of this, Python will automatically infer what type variables are based off of the value that is given."
   ]
  },
  {
   "cell_type": "markdown",
   "metadata": {},
   "source": [
    "We will be using these variables through this project both through interpolation and manupulation."
   ]
  },
  {
   "cell_type": "markdown",
   "metadata": {},
   "source": [
    "### Setting up the logic\n",
    "\n",
    "Now that we have decided what kind of products our store will offer, we can set up the rest of the logic. As the user adds items to the cart, we need to keep track of the total price of the cart. Let's set up a variable to store the cart price. Initialize this variable below."
   ]
  },
  {
   "cell_type": "code",
   "execution_count": null,
   "metadata": {},
   "outputs": [],
   "source": [
    "## initialize your variable here\n",
    "cartTotal = 0.00"
   ]
  },
  {
   "cell_type": "markdown",
   "metadata": {},
   "source": [
    "### Working with Input\n",
    "\n",
    "We can now begin prompting the user to add things to their cart. Let's start with practicing our skills with user input.\n",
    "\n",
    "---\n",
    "\n",
    "User input can be achieved in Python by using\n",
    "\n",
    "```\n",
    "\n",
    "input('Prompt Here')\n",
    "\n",
    "```\n",
    "\n",
    "---\n",
    "\n",
    "Please remember that this will not be stored unless you assign it to a variable! When ran, this code will display what is inside of the 'Prompt Here' section, then wait for the user to return their input. Usually in VS Code, this will appear around the search bar area at the top. Try this in the example below:"
   ]
  },
  {
   "cell_type": "code",
   "execution_count": null,
   "metadata": {},
   "outputs": [],
   "source": [
    "age = input('Please enter your age:\\n')\n",
    "print(f\"Your age is {age}\")"
   ]
  },
  {
   "cell_type": "markdown",
   "metadata": {},
   "source": [
    "### Starting the Prompt\n",
    "\n",
    "Now we can start prompting the user to add items to their cart. We will begin by looking at the inside logic then work our way out with our logic and loops. In our example, we want to prompt the user to type in what they would like out of a list of items provided. Once provided, we will query how many they want to add to their cart then return the price of the items they just added. Here is the example provided above:\n",
    "\n",
    "```\n",
    "Here is a list of available products and their price:\n",
    "\n",
    "bananas\n",
    "Qty: 4 Price: 0.49\n",
    "\n",
    "ground beef\n",
    "Qty: 7 Price: 5.67\n",
    "\n",
    "Spam\n",
    "Qty: 5 Price: 1.62\n",
    "\n",
    "plastic wrap\n",
    "Qty: 3 Price: 5.99\n",
    "\n",
    "toilet paper\n",
    "Qty: 6 Price: 12.00\n",
    "\n",
    "What would you like to add to your cart?\n",
    "\n",
    "```\n",
    "\n",
    "-- bananas\n",
    "\n",
    "```\n",
    "How many?\n",
    "```\n",
    "\n",
    "-- 3\n",
    "\n",
    "```\n",
    "Cost: 1.47\n",
    "```"
   ]
  },
  {
   "cell_type": "markdown",
   "metadata": {},
   "source": [
    "The example below is started for you. We will be using the variables we initialized for our products for this exercise. If you are familiar with other languages, we don't need to add a newline indicator to the end of single print statements because this is handled automatically in Python print statements. New line indicators only need added to single print statements that you want to display across different lines."
   ]
  },
  {
   "cell_type": "markdown",
   "metadata": {},
   "source": [
    "#### Return to this code later"
   ]
  },
  {
   "cell_type": "code",
   "execution_count": null,
   "metadata": {},
   "outputs": [],
   "source": [
    "\n",
    "bananas = 'bananas'\n",
    "bananasPrice = 0.49\n",
    "bananasQty = 4\n",
    "\n",
    "# Example:\n",
    "# bananas = 'bananas'\n",
    "# bananasPrice = 0.49\n",
    "# bananasQty = 4\n",
    "\n",
    "groundBeef = 'ground beef'\n",
    "groundBeefPrice = 5.67\n",
    "groundBeefQty = 7\n",
    "\n",
    "Spam = 'Spam'\n",
    "SpamPrice = 1.62\n",
    "SpamQty = 5\n",
    "\n",
    "plasticWrap = 'plastic wrap'\n",
    "plasticWrapPrice = 5.99\n",
    "plasticWrapQty = 3\n",
    "\n",
    "toiletPaper = 'toilet paper'\n",
    "toiletPaperPrice = 12.00\n",
    "toiletPaperQty = 6\n",
    "\n",
    "print(\"Here is a list of available products and their price:\")\n",
    "\n",
    "print(f\"{bananas}\\nQty: {bananasQty} Price: {bananasPrice}\")\n",
    "\n",
    "\n",
    "#Use the above print statement as a template example for the rest of your products.\n",
    "print(f\"{groundBeef}\\nQty: {groundBeefQty} Price: {groundBeefPrice}\")\n",
    "print(f\"{Spam}\\nQty: {SpamQty} Price: {SpamPrice}\")\n",
    "print(f\"{plasticWrap}\\nQty: {plasticWrapQty} Price: {plasticWrapPrice}\")\n",
    "print(f\"{toiletPaper}\\nQty: {toiletPaperQty} Price: {toiletPaperPrice}\")\n",
    "\n",
    "desiredProduct = input(\"What would you like to add to your cart?\\n\")\n",
    "\n",
    "#Create a statement here to prompt the user how many of the item they chose they would like.\n",
    "productQuantity = input(f\"How many {desiredProduct} would you like to buy?\")"
   ]
  },
  {
   "cell_type": "markdown",
   "metadata": {},
   "source": [
    "In the above formatted print statements, anything inside the {} are considered python code. Thus, you can access your variables and/or execute short calculations directly in your print statement. Be sure to test the above and ensure the output is what you are expecting."
   ]
  },
  {
   "cell_type": "markdown",
   "metadata": {},
   "source": [
    "### Calculating the price\n",
    "\n",
    "Now that the user has chosen what items they would like to add to the cart, we need to calculate the cost of the items they just added to their cart. Since each item is a different price, the numbers we will use to calculate this will be different.\n",
    "\n",
    "We already have the amount they want, we just need to determine what the cost per item is. We have this defined above. To use this in our logic, we will need to use an ``` if ``` statement using the desiredProduct variable we have stored. This is outlined for you. Go through this code and replace the prompted variables."
   ]
  },
  {
   "cell_type": "code",
   "execution_count": null,
   "metadata": {},
   "outputs": [],
   "source": [
    "itemCost = 0.00\n",
    "\n",
    "if desiredProduct == 'bananas':\n",
    "    # Replace Product 1 above with the actual product name.\n",
    "    # Replace bananasPrice with the variable name you\n",
    "    # initially set for the price of product 1\n",
    "\n",
    "    itemCost = productQuantity * bananasPrice\n",
    "elif desiredProduct == 'ground beef':\n",
    "    itemCost = productQuantity * groundBeefPrice\n",
    "    groundBeefQty -= productQuantity\n",
    "    # Continue the elif statement with the rest of your products\n",
    "elif desiredProduct == 'Spam':\n",
    "    itemCost = productQuantity * SpamPrice\n",
    "    SpamQty -= productQuantity\n",
    "elif desiredProduct == 'plastic wrap':\n",
    "    itemCost = productQuantity * plasticWrapPrice\n",
    "    plasticWrapQty -= productQuantity\n",
    "elif desiredProduct == 'toilet paper':\n",
    "    itemCost = productQuantity * toiletPaperPrice\n",
    "    toiletPaperQty -= productQuantity\n",
    "else:\n",
    "    print(\"Available product was not chosen!\")\n",
    "\n",
    "    # Continue the elif statement with the rest of your products\n",
    "\n",
    "else:\n",
    "    print(\"Available product was not chosen!\")\n",
    "    # We need to include a default statement just in case they choose a product not on the shelf!\n",
    "    # This will also catch misspellings."
   ]
  },
  {
   "cell_type": "markdown",
   "metadata": {},
   "source": [
    "### Adding the Shelf Logic\n",
    "\n",
    "When the user adds items to their cart, the items are no longer on the store shelf. We will need to update the variable accordingly. Move the above statement down to the below code block and add a statement that adjusts the item quantity available accordingly. We can go back to our if statement and add a line of code to handle this in each part."
   ]
  },
  {
   "cell_type": "markdown",
   "metadata": {},
   "source": [
    "We know if the user chooses 3 bananas, as given in the example, then the bananas are moved from the shelf and into the user's cart. Since we are storing what item the user wants and how many, we can integrate this into our if statement with the below code."
   ]
  },
  {
   "cell_type": "code",
   "execution_count": 2,
   "metadata": {},
   "outputs": [],
   "source": [
    "#if desiredProduct == 'bananas':\n",
    "    #itemCost = productQuantity * bananasPrice\n",
    "    #code below here\n",
    "\n",
    "bananasQty -= productQuantity\n",
    "#Adjusts the amount on the shelf. The next time the product list is displayed,\n",
    "#the list should reflect this calculation."
   ]
  },
  {
   "cell_type": "markdown",
   "metadata": {},
   "source": [
    "### Adjusting the total cart price\n",
    "\n",
    "Now that items have been added to their cart, we need to add the cost of the items we just added to the cart to the total cost.\n",
    "\n",
    "Write a statement that takes your itemCost from above and adds it to the total price of the cart you initialized."
   ]
  },
  {
   "cell_type": "code",
   "execution_count": null,
   "metadata": {},
   "outputs": [],
   "source": [
    "#Add your code here\n",
    "cartTotal += itemCost"
   ]
  },
  {
   "cell_type": "markdown",
   "metadata": {},
   "source": [
    "Let's bring the code we wrote earlier back down and add what we just created to it. Copy and paste the code labeled \"We will return to this later\" and add the new code we created after the user chooses the item and the cost. We should have the following layout:\n",
    "\n",
    "1) Welcome\n",
    "2) List of products\n",
    "3) Prompt for a product\n",
    "4) Prompt for the quantity\n",
    "5) If statement to calculate product cost and adjust product availability\n",
    "6) Total Cart Cost Calculation"
   ]
  },
  {
   "cell_type": "code",
   "execution_count": 4,
   "metadata": {},
   "outputs": [
    {
     "name": "stdout",
     "output_type": "stream",
     "text": [
      "WELCOME TO CODE MART!!!\n",
      "Here is a list of available products and their price:\n",
      "bananas\n",
      "Qty: 4 Price: 0.49\n",
      "ground beef\n",
      "Qty: 7 Price: 5.67\n",
      "Spam\n",
      "Qty: 5 Price: 1.62\n",
      "plastic wrap\n",
      "Qty: 3 Price: 5.99\n",
      "toilet paper\n",
      "Qty: 6 Price: 12.0\n",
      "24.0\n"
     ]
    }
   ],
   "source": [
    "# Add complete code here\n",
    "bananas = 'bananas'\n",
    "bananasPrice = 0.49\n",
    "bananasQty = 4\n",
    "\n",
    "groundBeef = 'ground beef'\n",
    "groundBeefPrice = 5.67\n",
    "groundBeefQty = 7\n",
    "\n",
    "Spam = 'Spam'\n",
    "SpamPrice = 1.62\n",
    "SpamQty = 5\n",
    "\n",
    "plasticWrap = 'plastic wrap'\n",
    "plasticWrapPrice = 5.99\n",
    "plasticWrapQty = 3\n",
    "\n",
    "toiletPaper = 'toilet paper'\n",
    "toiletPaperPrice = 12.00\n",
    "toiletPaperQty = 6\n",
    "\n",
    "print(\"WELCOME TO CODE MART!!!\")\n",
    "\n",
    "print(\"Here is a list of available products and their price:\")\n",
    "\n",
    "print(f\"{bananas}\\nQty: {bananasQty} Price: {bananasPrice}\")\n",
    "print(f\"{groundBeef}\\nQty: {groundBeefQty} Price: {groundBeefPrice}\")\n",
    "print(f\"{Spam}\\nQty: {SpamQty} Price: {SpamPrice}\")\n",
    "print(f\"{plasticWrap}\\nQty: {plasticWrapQty} Price: {plasticWrapPrice}\")\n",
    "print(f\"{toiletPaper}\\nQty: {toiletPaperQty} Price: {toiletPaperPrice}\")\n",
    "\n",
    "desiredProduct = input(\"What would you like to add to your cart?\\n\")\n",
    "\n",
    "productQuantity = float(input(\"How many {desiredProduct} would you like to buy?\"))\n",
    "\n",
    "\n",
    "cartTotal = 0.00\n",
    "\n",
    "itemCost = 0.00\n",
    "\n",
    "if desiredProduct == 'bananas':\n",
    "    itemCost = productQuantity * 0.49\n",
    "    bananasQty -= productQuantity\n",
    "elif desiredProduct == 'ground beef':\n",
    "    itemCost = productQuantity * groundBeefPrice\n",
    "    groundBeefQty -= productQuantity\n",
    "    # Continue the elif statement with the rest of your products\n",
    "elif desiredProduct == 'Spam':\n",
    "    itemCost = productQuantity * SpamPrice\n",
    "    SpamQty -= productQuantity\n",
    "elif desiredProduct == 'plastic wrap':\n",
    "    itemCost = productQuantity * plasticWrapPrice\n",
    "    plasticWrapQty -= productQuantity\n",
    "elif desiredProduct == 'toilet paper':\n",
    "    itemCost = productQuantity * toiletPaperPrice\n",
    "    toiletPaperQty -= productQuantity\n",
    "else:\n",
    "    print(\"Available product was not chosen!\")\n",
    "print(itemCost) "
   ]
  },
  {
   "cell_type": "markdown",
   "metadata": {},
   "source": [
    "## Loop Section"
   ]
  },
  {
   "cell_type": "markdown",
   "metadata": {},
   "source": [
    "Now that we have finished the main logic of our store, we need to allow it to loop so the user can keep adding items to the cart. In this case, we will be using a do while loop.\n",
    "\n",
    "A while loop continues to run while a specific condition is met. For example, the following code below should print the integers 0 to 4."
   ]
  },
  {
   "cell_type": "code",
   "execution_count": null,
   "metadata": {},
   "outputs": [],
   "source": [
    "currentInt = 0\n",
    "\n",
    "while currentInt < 5:\n",
    "    print(currentInt)\n",
    "    currentInt += 1"
   ]
  },
  {
   "cell_type": "markdown",
   "metadata": {},
   "source": [
    "Run this code to ensure it is working as expected. Take out the ``` currentInt += 1 ``` and rerun the code block. What changes? Why do you think this is? This while loop checks to see if the condition is met BEFORE running the loop."
   ]
  },
  {
   "cell_type": "markdown",
   "metadata": {},
   "source": [
    "On our first run, we are assuming the user is wanting to add items to their cart because they're in the store. We will offer them a list of items to choose from, allow them to choose, then ask them if they want to add more items to the cart. If they do, the loop will repeat. A skeleton has been provided to you below."
   ]
  },
  {
   "cell_type": "code",
   "execution_count": null,
   "metadata": {},
   "outputs": [],
   "source": [
    "## DO NOT RUN THIS CODE\n",
    "\n",
    "addMoreItems = True\n",
    "\n",
    "while addMoreItems:\n",
    "    #Copy and paste your completed logic here\n"
   ]
  },
  {
   "cell_type": "markdown",
   "metadata": {},
   "source": [
    "Great! This the general format of our loop. Only one thing is missing: When does the loop know when to stop running? After our current logic, we need to ask the user if they want to continue adding items to the cart. If they do not, we can set the ``` addMoreItems ``` variable to ``` False ```which will signal our loop to end.\n",
    "\n",
    "Under your logic but still inside the while loop, ask for user input of Y or N to see if they would like to add items to their cart still. If this reply is N, then set the ``` addMoreItems ``` variable to ``` False ```. Once this is done, run your code. Is it working and looping as expected?"
   ]
  },
  {
   "cell_type": "code",
   "execution_count": null,
   "metadata": {},
   "outputs": [
    {
     "name": "stdout",
     "output_type": "stream",
     "text": [
      "WELCOME TO CODE MART!!!\n",
      "Here is a list of available products and their price:\n",
      "bananas\n",
      "Qty: 4 Price: 0.49\n",
      "ground beef\n",
      "Qty: 7 Price: 5.67\n",
      "Spam\n",
      "Qty: 5 Price: 1.62\n",
      "plastic wrap\n",
      "Qty: 3 Price: 5.99\n",
      "toilet paper\n",
      "Qty: 6 Price: 12.0\n",
      "Thank you for shopping at Code Mart! Your total is $14.45.\n",
      "Please come again!\n"
     ]
    }
   ],
   "source": [
    "# Code here\n",
    "bananas = 'bananas'\n",
    "bananasPrice = 0.49\n",
    "bananasQty = 4\n",
    "\n",
    "groundBeef = 'ground beef'\n",
    "groundBeefPrice = 5.67\n",
    "groundBeefQty = 7\n",
    "\n",
    "Spam = 'Spam'\n",
    "SpamPrice = 1.62\n",
    "SpamQty = 5\n",
    "\n",
    "plasticWrap = 'plastic wrap'\n",
    "plasticWrapPrice = 5.99\n",
    "plasticWrapQty = 3\n",
    "\n",
    "toiletPaper = 'toilet paper'\n",
    "toiletPaperPrice = 12.00\n",
    "toiletPaperQty = 6\n",
    "\n",
    "print(\"WELCOME TO CODE MART!!!\")\n",
    "\n",
    "print(\"Here is a list of available products and their price:\")\n",
    "\n",
    "print(f\"{bananas}\\nQty: {bananasQty} Price: {bananasPrice}\")\n",
    "print(f\"{groundBeef}\\nQty: {groundBeefQty} Price: {groundBeefPrice}\")\n",
    "print(f\"{Spam}\\nQty: {SpamQty} Price: {SpamPrice}\")\n",
    "print(f\"{plasticWrap}\\nQty: {plasticWrapQty} Price: {plasticWrapPrice}\")\n",
    "print(f\"{toiletPaper}\\nQty: {toiletPaperQty} Price: {toiletPaperPrice}\")\n",
    "\n",
    "\n",
    "addMoreItems = True\n",
    "cartTotal = 0.00\n",
    "availableProducts = ['bananas', 'ground beef', 'Spam', 'plastic wrap', 'toilet paper']\n",
    "\n",
    "\n",
    "while addMoreItems:\n",
    "    \n",
    "    \n",
    "    desiredProduct = input(\"What would you like to add to your cart?\")\n",
    "    if desiredProduct not in availableProducts:\n",
    "        print(\"That item is not available. Please try again.\")\n",
    "    else:\n",
    "        productQuantity = float(input(f\"How many {desiredProduct} would you like to buy?\"))\n",
    "        itemCost = 0.00\n",
    "\n",
    "    if desiredProduct == 'bananas' and productQuantity <= bananasQty:\n",
    "        itemCost = productQuantity * bananasPrice\n",
    "        bananasQty -= productQuantity\n",
    "        \n",
    "    elif desiredProduct == 'ground beef' and productQuantity <= groundBeefQty:\n",
    "        itemCost = productQuantity * groundBeefPrice\n",
    "        groundBeefQty -= productQuantity\n",
    "    elif desiredProduct == 'Spam'.lower() and productQuantity <= SpamQty:\n",
    "        itemCost = productQuantity * SpamPrice\n",
    "        SpamQty -= productQuantity\n",
    "    elif desiredProduct == 'plastic wrap' and productQuantity <= plasticWrapQty:\n",
    "        itemCost = productQuantity * plasticWrapPrice\n",
    "        plasticWrapQty -= productQuantity\n",
    "    elif desiredProduct == 'toilet paper' and productQuantity <= toiletPaperQty:\n",
    "        itemCost = productQuantity * toiletPaperPrice\n",
    "        toiletPaperQty -= productQuantity\n",
    "    \n",
    "    cartTotal += itemCost      \n",
    "    \n",
    "    shopping = input(\"Would you like to add more items to the cart? y/n\").lower()\n",
    "    if shopping == 'n':\n",
    "        addMoreItems = False\n",
    "    \n",
    "print(f\"Thank you for shopping at Code Mart! Your total is ${cartTotal}.\\nPlease come again!\")        \n",
    "    "
   ]
  },
  {
   "cell_type": "markdown",
   "metadata": {},
   "source": [
    "Finally, to top it off, we need our Thank You statement to print once the loop ends with the total price of everything in the cart. Add your final, completed code to the below block."
   ]
  },
  {
   "cell_type": "code",
   "execution_count": null,
   "metadata": {},
   "outputs": [],
   "source": [
    "# Code here\n",
    "print(f\"Your total is ${cartTotal}.\\n Thank you for shopping at Code Mart! Please come again!\")"
   ]
  },
  {
   "cell_type": "markdown",
   "metadata": {},
   "source": [
    "Potential bonus: Add error checking when the user enters a product, if it's not one of the available products, cut the loop and ask the user to choose an available option."
   ]
  },
  {
   "cell_type": "markdown",
   "metadata": {},
   "source": []
  }
 ],
 "metadata": {
  "kernelspec": {
   "display_name": "Python 3",
   "language": "python",
   "name": "python3"
  },
  "language_info": {
   "codemirror_mode": {
    "name": "ipython",
    "version": 3
   },
   "file_extension": ".py",
   "mimetype": "text/x-python",
   "name": "python",
   "nbconvert_exporter": "python",
   "pygments_lexer": "ipython3",
   "version": "3.13.2"
  }
 },
 "nbformat": 4,
 "nbformat_minor": 2
}
