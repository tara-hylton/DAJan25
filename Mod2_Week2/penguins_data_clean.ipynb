{
 "cells": [
  {
   "cell_type": "markdown",
   "id": "3c86545b",
   "metadata": {},
   "source": [
    "## Only Penguins"
   ]
  },
  {
   "cell_type": "code",
   "execution_count": 1,
   "id": "a39dd974",
   "metadata": {},
   "outputs": [],
   "source": [
    "import pandas as pd\n",
    "import matplotlib as plt"
   ]
  },
  {
   "cell_type": "markdown",
   "id": "1a4ff9e4",
   "metadata": {},
   "source": [
    "_import data_"
   ]
  },
  {
   "cell_type": "code",
   "execution_count": 2,
   "id": "a5b4d581",
   "metadata": {},
   "outputs": [],
   "source": [
    "# Write code below to import the penguins dataset and display the result"
   ]
  },
  {
   "cell_type": "markdown",
   "id": "5f46ee1a",
   "metadata": {},
   "source": [
    "Summarize the data"
   ]
  },
  {
   "cell_type": "code",
   "execution_count": 4,
   "id": "fd48dbde",
   "metadata": {},
   "outputs": [],
   "source": [
    "# Write code below to summarize the quantitative columns"
   ]
  },
  {
   "cell_type": "markdown",
   "id": "11a33315",
   "metadata": {},
   "source": [
    "View the column names"
   ]
  },
  {
   "cell_type": "code",
   "execution_count": 6,
   "id": "1238099c",
   "metadata": {},
   "outputs": [],
   "source": [
    "# Write code below to display the column names"
   ]
  },
  {
   "cell_type": "markdown",
   "id": "3cab422b",
   "metadata": {},
   "source": [
    "View the column data types"
   ]
  },
  {
   "cell_type": "code",
   "execution_count": 8,
   "id": "5dc0cf37",
   "metadata": {},
   "outputs": [],
   "source": [
    "# Write code to show the dtypes for each column"
   ]
  },
  {
   "cell_type": "markdown",
   "id": "2a68731c",
   "metadata": {},
   "source": [
    "## Which columns are qualitative and which columns are quantitative?"
   ]
  },
  {
   "cell_type": "markdown",
   "id": "dc014560",
   "metadata": {},
   "source": [
    "Check for inconsistencies - view the unique values in the quantitative columns."
   ]
  },
  {
   "cell_type": "code",
   "execution_count": 10,
   "id": "8a5f0e74",
   "metadata": {},
   "outputs": [],
   "source": [
    "# Print the unique values in the species column"
   ]
  },
  {
   "cell_type": "code",
   "execution_count": 12,
   "id": "bd28921a",
   "metadata": {},
   "outputs": [],
   "source": [
    "# Print the unique values in the island column"
   ]
  },
  {
   "cell_type": "code",
   "execution_count": 14,
   "id": "185b9cdc",
   "metadata": {},
   "outputs": [],
   "source": [
    "# Print the unique values in the sex column"
   ]
  },
  {
   "cell_type": "markdown",
   "id": "2b7eab61",
   "metadata": {},
   "source": [
    "Check for null values"
   ]
  },
  {
   "cell_type": "code",
   "execution_count": 16,
   "id": "93bbd457",
   "metadata": {},
   "outputs": [],
   "source": [
    "# Count the number of nulls in each columns"
   ]
  },
  {
   "cell_type": "code",
   "execution_count": 18,
   "id": "32b1be66",
   "metadata": {},
   "outputs": [],
   "source": [
    "# Print number of rows in the column"
   ]
  },
  {
   "cell_type": "code",
   "execution_count": 20,
   "id": "7fd30be6",
   "metadata": {},
   "outputs": [],
   "source": [
    "# Easier way to count nulls and display dtypes"
   ]
  },
  {
   "cell_type": "markdown",
   "id": "236abb44",
   "metadata": {},
   "source": [
    "Print null values"
   ]
  },
  {
   "cell_type": "code",
   "execution_count": 22,
   "id": "dc7f06b2",
   "metadata": {},
   "outputs": [],
   "source": [
    "# Print only the rows that have NaN values"
   ]
  },
  {
   "cell_type": "markdown",
   "id": "2abbfd24",
   "metadata": {},
   "source": [
    "How do we handles these values?"
   ]
  },
  {
   "cell_type": "code",
   "execution_count": 24,
   "id": "3763724e",
   "metadata": {},
   "outputs": [],
   "source": [
    "# Handle code here"
   ]
  },
  {
   "cell_type": "markdown",
   "id": "c0f560a9",
   "metadata": {},
   "source": [
    "// Depends on what your goal with the data is to determine which should be dropped or how they should be handled. Values that are quantitative can be put as 0, removed, or if you want to use these rows for other purposes, you can replace the nan with the column average."
   ]
  },
  {
   "cell_type": "markdown",
   "id": "cdad9939",
   "metadata": {},
   "source": [
    "Filter on values"
   ]
  },
  {
   "cell_type": "markdown",
   "id": "88041d88",
   "metadata": {},
   "source": [
    "Groupby -> penguin species to calculate average flipper length to detemine which species has longer filters"
   ]
  },
  {
   "cell_type": "markdown",
   "id": "a04c210f",
   "metadata": {},
   "source": [
    "Groupby -> penguin species to calculate average flipper length to detemine which species has longer filters"
   ]
  },
  {
   "cell_type": "markdown",
   "id": "8effd9d3",
   "metadata": {},
   "source": []
  }
 ],
 "metadata": {
  "kernelspec": {
   "display_name": "Python 3",
   "language": "python",
   "name": "python3"
  },
  "language_info": {
   "codemirror_mode": {
    "name": "ipython",
    "version": 3
   },
   "file_extension": ".py",
   "mimetype": "text/x-python",
   "name": "python",
   "nbconvert_exporter": "python",
   "pygments_lexer": "ipython3",
   "version": "3.12.1"
  }
 },
 "nbformat": 4,
 "nbformat_minor": 5
}
