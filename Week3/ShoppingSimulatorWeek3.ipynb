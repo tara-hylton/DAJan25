{
 "cells": [
  {
   "cell_type": "markdown",
   "metadata": {},
   "source": [
    "### Welcome to Code:You Week 3!\n",
    "\n",
    "Last week, we expanded on our concepts from week 1 and added dictionaries and lists to our application. As we saw, this can give us a streamlined way to access variables and associated values, which allows us to introduce loops into our code to pull those values for us. Here is the code from last week:"
   ]
  },
  {
   "cell_type": "markdown",
   "metadata": {},
   "source": [
    "## Code from last week:"
   ]
  },
  {
   "cell_type": "code",
   "execution_count": null,
   "metadata": {},
   "outputs": [],
   "source": [
    "# This section sets up the products that we have on the shelves,\n",
    "# their price, and how many is currently on the shelf.\n",
    "\n",
    "#We have turned this into a dictionary with the product name as the key and a list containing\n",
    "#the quantity available and the price as the value.\n",
    "productsDict = {\n",
    "    \"bananas\": [4, 0.49],\n",
    "    \"ground beef\": [7, 5.67],\n",
    "    \"spam\": [5, 1.62],\n",
    "    \"plastic wrap\": [3, 5.99],\n",
    "    \"toilet paper\": [6, 12.00]\n",
    "}\n",
    "\n",
    "\n",
    "cartTotal = 0.0\n",
    "addMoreItems = True\n",
    "\n",
    "#Our program starts here\n",
    "################################################################################\n",
    "print(\"Welcome to Code Mart!\")\n",
    "\n",
    "while addMoreItems:\n",
    "\n",
    "    itemFound = False #Validating the user's requested product\n",
    "    quantityValid = False #Validating the user's requested product qty\n",
    "\n",
    "\n",
    "    while not itemFound or not quantityValid:\n",
    "\n",
    "        desiredProduct = \"\" #Storing the user's requested product\n",
    "        desiredProductQty = 0 #Storing the user's requested product qty\n",
    "        desiredProductCost = 0.0 #Storing the item total before addng to the cart based off desired product and desired qty\n",
    "        productCost = 0.0 #Grabs the product cost\n",
    "        qtyAvailable = 0 #Actual qty available of requested product\n",
    "\n",
    "        # In this section, we are printing the available items to the user. We\n",
    "        # are using an f string so we can directly add variables into the string.\n",
    "        # As of week 3, we are using a for loop to grab these values from the\n",
    "        # dictionary.\n",
    "        print(f\"\\nHere is a list of available products and their price:\\n\")\n",
    "\n",
    "        #prints the product list, price, and items for the user\n",
    "        for product in productsDict:\n",
    "            print(f\"{product}\\nQty: {productsDict[product][0]} Price: {productsDict[product][1]}\\n\")\n",
    "\n",
    "        #asks the user what item they would like and converts to lower so there is no error with capitalization\n",
    "        desiredProduct = input(f\"\\nWhat would you like to add to your cart?\").lower()\n",
    "\n",
    "        #checks to make sure the user-entered product is available in the list of items.\n",
    "        #If so, grabs the available qty of that item. If it's 0 or less, the user needs to\n",
    "        #choose a new item. If not, it sets the item as found and prints this to the user.\n",
    "        #If the requested item is not there at all, the user must choose again.\n",
    "        if(desiredProduct in productsDict):\n",
    "            qtyAvailable = productsDict[desiredProduct][0]\n",
    "            if(qtyAvailable <= 0):\n",
    "                print(f\"Oh no! There are no more {desiredProduct} on the shelf! Choose another item.\")\n",
    "                continue\n",
    "            else:\n",
    "                print(f\"\\nYou want to add {desiredProduct} to your cart.\")\n",
    "                productCost = productsDict[desiredProduct][1]\n",
    "                itemFound = True\n",
    "        else:\n",
    "            print(f\"{desiredProduct} is not available on the shelf. Please choose again.\")\n",
    "            continue\n",
    "\n",
    "        #Here, we are asking the user how many of the item they chose they would like. This is in a\n",
    "        #try block because the user might enter a value that isn't an integer or a letter, which would\n",
    "        #not work for our purposes. If the user enters an invalid value, they must start again. If the\n",
    "        #value is a valid integer, the value is checked. If their desired value is more than what is available,\n",
    "        #the available quantity is added. If they desire a number within what is available, that number is added\n",
    "        #to the cart.\n",
    "        try:\n",
    "            desiredProductQty = int(input(f\"\\nHow many {desiredProduct} would you like?\"))\n",
    "        except:\n",
    "            print(\"\\nError! Please enter a valid whole number without any decimals.\")\n",
    "            continue\n",
    "        else:\n",
    "            if(desiredProductQty > qtyAvailable):\n",
    "                print(f\"\\nOh no! There are only {qtyAvailable} {desiredProduct} available! Adding to cart.\")\n",
    "                desiredProductCost = round(qtyAvailable * productCost, 2)\n",
    "                cartTotal += desiredProductCost\n",
    "                print(f\"\\n{qtyAvailable} {desiredProduct} added to cart. ${desiredProductCost} added to cart total.\")\n",
    "                productsDict[desiredProduct][0] -= qtyAvailable\n",
    "            else:\n",
    "                print(f\"\\nAdding {desiredProductQty} {desiredProduct} to cart.\")\n",
    "                desiredProductCost = round(desiredProductQty * productCost, 2)\n",
    "                cartTotal += desiredProductCost\n",
    "                print(f\"\\n{desiredProductQty} {desiredProduct} added to cart. ${desiredProductCost} added to cart total.\")\n",
    "                productsDict[desiredProduct][0] -= desiredProductQty\n",
    "            quantityValid = True\n",
    "\n",
    "    \n",
    "\n",
    "    addItemsValid = False\n",
    "\n",
    "    #Will continue to run until the user enters a valid y or n to indicate whether they want to continue.\n",
    "    while not addItemsValid:\n",
    "\n",
    "        # Queries the user to see if they would like to add anything else to their cart.\n",
    "        addItemsInput = input(\"\\nWould you like to add more items to your cart? (Y/N)\").lower()\n",
    "\n",
    "        # Uses that user input. If the user enters \"N\", then the addMoreItems variable\n",
    "        # declared above is set to False.\n",
    "        if addItemsInput == \"n\":\n",
    "            addMoreItems = False\n",
    "            print(\"You said No. Checking out.\")\n",
    "            addItemsValid = True\n",
    "        elif addItemsInput == \"y\":\n",
    "            print(\"You said you would like to add more items to your cart.\")\n",
    "            addItemsValid = True\n",
    "        else:\n",
    "            print(\"Please type \\\"Y\\\" for yes or \\\"N\\\" for no.\")\n",
    "            continue\n",
    "\n",
    "\n",
    "print(f\"\\nThank you for shopping at Code Mart! Your total cost was ${cartTotal}.\")\n",
    "\n"
   ]
  },
  {
   "cell_type": "markdown",
   "metadata": {},
   "source": [
    "### Pulling out code using functions\n",
    "\n",
    "Last week, we simplified our code by replacing all of our individually defined variables with\n",
    "a dictionary of products with a tuple of the quantity and price as the value.\n",
    "\n",
    "_The above code has been modified to allow simplification._\n",
    "\n",
    "After this, we then added user validation to ensure that when we asked for user input, the user\n",
    "entered a value that is consistent and compatible with our program. This week, we will be looking at functions.\n",
    "\n",
    "#### Functions\n",
    "\n",
    "Functions are pieces of reusable code. Essentially, they act as a kind of variable for a whole chunk of code.\n",
    "In order to be used, a function must be defined using the `def` keyword followed by the function's name and parameters.\n",
    "\n",
    "```python\n",
    "def functionName(parameters):\n",
    "    #Code here\n",
    "```\n",
    "\n",
    "Since functions are pre-defined, what happens when we want to cater a function in different scenarios?"
   ]
  },
  {
   "cell_type": "markdown",
   "metadata": {},
   "source": [
    "### Applying this to our shopping cart example\n",
    "\n",
    "In our shopping cart, how can we reuse code if someone enters toilet paper into their cart versus spam?\n",
    "Not to mention, the quantity available AND the cost are also different!\n",
    "\n",
    "This is where the arguments come in. For the parameters, you can use an _arbitrary_ value to stand in for your real value.\n",
    "___\n",
    "\n",
    "For example, say we want to calculate the cost of `4` `toilet paper`, which we have previously defined as `$12.00`.\n",
    "\n",
    "Well, we know that our total cost will be `4 * 12`, or `qty * itemCost`. Thus, we know what our arbitrary variables are, or the arguments.\n",
    "\n",
    "This would look like:\n",
    "\n",
    "```python\n",
    "def functionName(qty, itemCost):\n",
    "    #Code here\n",
    "```\n",
    "\n",
    "With this definition, we can place a value for `qty` and a value for `itemCost`. Once we put a value there, then ANY reference of `qty` or `itemCost`\n",
    "will be updated with the replacement. Let's take the following function:\n",
    "\n",
    "```python\n",
    "def functionName(qty, itemCost):\n",
    "    qty * itemCost\n",
    "```\n",
    "\n",
    "When we use\n",
    "```python\n",
    "functionName(4, 12.00)\n",
    "```\n",
    "in our code, it is essentially the same as saying\n",
    "```4 * 12```.\n",
    "___"
   ]
  },
  {
   "cell_type": "markdown",
   "metadata": {},
   "source": [
    "### Adding on\n",
    "\n",
    "Let's make a note that this is NOT everything about functions, this is just a basic use. Let's try the code we created above.\n",
    "\n",
    "Run the following code block:"
   ]
  },
  {
   "cell_type": "code",
   "execution_count": null,
   "metadata": {},
   "outputs": [],
   "source": [
    "# Defining the function\n",
    "def calculateCost(qty, itemCost):\n",
    "    qty * itemCost\n",
    "\n",
    "# Using the function\n",
    "calculateCost(4,12)\n",
    "\n",
    "# Keep reading!"
   ]
  },
  {
   "cell_type": "markdown",
   "metadata": {},
   "source": [
    "Alright, the code block worked, it ran, but nothing happened. Why?"
   ]
  },
  {
   "cell_type": "markdown",
   "metadata": {},
   "source": [
    "This is because we did not include the `return`. Functions _are_ variable-like, but when running the code, how does it know what to output?\n",
    "Without this `return` statement, the output of the function is considered `void`, or nothing. The inside code will execute and work, but it is\n",
    "not used anywhere else in the code."
   ]
  },
  {
   "cell_type": "code",
   "execution_count": null,
   "metadata": {},
   "outputs": [],
   "source": [
    "# Defining the function\n",
    "def calculateCost(qty, itemCost):\n",
    "    return float(qty * itemCost)\n",
    "\n",
    "# Using the function\n",
    "cost = calculateCost(4,12)\n",
    "print(cost)\n",
    "\n",
    "# Please note that due to REPL (the interactive interpreter), in notebooks a function will automatically\n",
    "# print the return without a print statement for easy debugging. When running in a normal .py file,\n",
    "# the print statement is required.\n"
   ]
  },
  {
   "cell_type": "markdown",
   "metadata": {},
   "source": [
    "Nice job! We got the output as expected."
   ]
  },
  {
   "cell_type": "markdown",
   "metadata": {},
   "source": [
    "### External tools for function typing\n",
    "\n",
    "Python is a `dynamically typed` language. This means that Python will automatically infer what the type of a variable is based off the values being used. As a result, Python errors\n",
    "are sometimes difficult to debug.\n",
    "We can, however, help debug this through external programs or packages, such as MyPy. You can tell Python what value should be expected using `type hints`. The output of a function can be specified in the definition.\n",
    "After the arguments of the function, we would add `-> returnType`.\n",
    "\n",
    "Since we are looking for a currency-like number, we would want to return a `float`. While this doesn't change the type of output that Python will use, MyPy can use this to debug and will return an error if the output is different than expected.\n",
    "\n",
    "```python\n",
    "def calculateCost(qty, itemCost) -> float:\n",
    "    pass\n",
    "```"
   ]
  },
  {
   "cell_type": "markdown",
   "metadata": {},
   "source": [
    "### Functions with our shopping cart\n",
    "\n",
    "Let's start taking a look at our shopping cart program and see what we can pull out with functions. Reading this code, it looks like a lot. When you think of functions, you should think of _actions_. Each function should have a specific purpose, and should be named to that purpose to make code easier to read.\n",
    "\n",
    "Looking through the comments, we have the following groups of code. (You can split this editor if you want to see it side-by-side)!\n",
    "\n",
    "1. We print the list of products, qty, and price\n",
    "2. We ask for user input for product\n",
    "3. We validate the user input for product\n",
    "4. We ask for user input for quantity\n",
    "5. We validate the user input for quantity\n",
    "6. We add the product to the user's cart\n",
    "7. We ask for user input if they would like to keep shopping\n",
    "8. We validate the user input for if they would like to keep shopping"
   ]
  },
  {
   "cell_type": "markdown",
   "metadata": {},
   "source": [
    "#### Organizing our functions\n",
    "\n",
    "So, how do we know what functions to make? Functions should separate out areas of concern. Looking at our list, we can separate out printing the products, asking the user for product, asking the user for quantity, adding an item to the cart, and validating the user input on whether they want to continue. Let's write each of those functions below. One is done for you. \n",
    "\n",
    "Remember to keep your function names specific! You may have to move code around to accomodate your functions."
   ]
  },
  {
   "cell_type": "markdown",
   "metadata": {},
   "source": [
    "___"
   ]
  },
  {
   "cell_type": "code",
   "execution_count": null,
   "metadata": {},
   "outputs": [],
   "source": [
    "# Function for printing the list of available products and their prices.\n",
    "# Be sure to add this to the one that is already completed!"
   ]
  },
  {
   "cell_type": "code",
   "execution_count": null,
   "metadata": {},
   "outputs": [],
   "source": [
    "# Test function here"
   ]
  },
  {
   "cell_type": "markdown",
   "metadata": {},
   "source": [
    "___"
   ]
  },
  {
   "cell_type": "code",
   "execution_count": null,
   "metadata": {},
   "outputs": [],
   "source": [
    "# Function for querying the user on what product they want\n",
    "\n",
    "def askForProduct(availableProducts):\n",
    "    \n",
    "    itemFound = False\n",
    "\n",
    "    while not itemFound:\n",
    "\n",
    "        # Add function for printing items available here\n",
    "\n",
    "        desiredProduct = input(f\"\\nWhat would you like to add to your cart?\").lower()\n",
    "\n",
    "        if(desiredProduct in productsDict):\n",
    "            qtyAvailable = availableProducts[desiredProduct][0]\n",
    "            if(qtyAvailable <= 0):\n",
    "                print(f\"Oh no! There are no more {desiredProduct} on the shelf! Choose another item.\")\n",
    "                continue\n",
    "            else:\n",
    "                print(f\"\\nYou want to add {desiredProduct} to your cart.\")\n",
    "                #productCost = productsDict[desiredProduct][1] <- This can instead be used to calculate the cost later.\n",
    "                itemFound = True\n",
    "        else:\n",
    "            print(f\"{desiredProduct} is not available on the shelf. Please choose again.\")\n",
    "            continue\n",
    "\n",
    "        return desiredProduct\n"
   ]
  },
  {
   "cell_type": "code",
   "execution_count": null,
   "metadata": {},
   "outputs": [],
   "source": [
    "# Test function here\n",
    "\n",
    "productsDict = {\n",
    "    \"bananas\": [4, 0.49],\n",
    "    \"ground beef\": [7, 5.67],\n",
    "    \"spam\": [5, 1.62],\n",
    "    \"plastic wrap\": [3, 5.99],\n",
    "    \"toilet paper\": [6, 12.00]\n",
    "}\n",
    "\n",
    "chosenProduct = askForProduct(productsDict)\n",
    "print(chosenProduct)"
   ]
  },
  {
   "cell_type": "markdown",
   "metadata": {},
   "source": [
    "#### This function has already been replaced in the main code."
   ]
  },
  {
   "cell_type": "markdown",
   "metadata": {},
   "source": [
    "___"
   ]
  },
  {
   "cell_type": "code",
   "execution_count": null,
   "metadata": {},
   "outputs": [],
   "source": [
    "# Function for querying the user on how much of the product they want"
   ]
  },
  {
   "cell_type": "code",
   "execution_count": null,
   "metadata": {},
   "outputs": [],
   "source": [
    "# Test function here"
   ]
  },
  {
   "cell_type": "markdown",
   "metadata": {},
   "source": [
    "___"
   ]
  },
  {
   "cell_type": "code",
   "execution_count": null,
   "metadata": {},
   "outputs": [],
   "source": [
    "# Function for adding an item to the cart"
   ]
  },
  {
   "cell_type": "code",
   "execution_count": null,
   "metadata": {},
   "outputs": [],
   "source": [
    "# Test function here"
   ]
  },
  {
   "cell_type": "markdown",
   "metadata": {},
   "source": [
    "___"
   ]
  },
  {
   "cell_type": "code",
   "execution_count": null,
   "metadata": {},
   "outputs": [],
   "source": [
    "# Function for querying the user whether they would like to continue"
   ]
  },
  {
   "cell_type": "code",
   "execution_count": null,
   "metadata": {},
   "outputs": [],
   "source": [
    "# Test function here"
   ]
  },
  {
   "cell_type": "markdown",
   "metadata": {},
   "source": [
    "___"
   ]
  },
  {
   "cell_type": "markdown",
   "metadata": {},
   "source": [
    "### Adding our functions to the code\n",
    "\n",
    "Great job! Now that our functions are created: For each section, remove the old code and add the new function in its place. \n",
    "\n",
    "Note: It would be beneficial to re-run the cells where your functions are defined so that they are freshly defined in the kernel.\n",
    "\n",
    "Note Note: If you would like to create more functions in re-writing this code, feel free to do so!"
   ]
  },
  {
   "cell_type": "markdown",
   "metadata": {},
   "source": [
    "#### After writing your functions, continue refactoring your code until it works the same as the code in the beginning."
   ]
  },
  {
   "cell_type": "code",
   "execution_count": null,
   "metadata": {},
   "outputs": [],
   "source": [
    "\n",
    "productsDict = {\n",
    "    \"bananas\": [4, 0.49],\n",
    "    \"ground beef\": [7, 5.67],\n",
    "    \"spam\": [5, 1.62],\n",
    "    \"plastic wrap\": [3, 5.99],\n",
    "    \"toilet paper\": [6, 12.00]\n",
    "}\n",
    "\n",
    "cartTotal = 0.0\n",
    "addMoreItems = True\n",
    "\n",
    "print(\"Welcome to Code Mart!\")\n",
    "\n",
    "while addMoreItems:\n",
    "\n",
    "    itemFound = False\n",
    "    quantityValid = False\n",
    "\n",
    "\n",
    "    while not itemFound or not quantityValid:\n",
    "\n",
    "        desiredProduct = \"\"\n",
    "        desiredProductQty = 0\n",
    "        desiredProductCost = 0.0\n",
    "        productCost = 0.0\n",
    "        qtyAvailable = 0\n",
    "\n",
    "        print(f\"\\nHere is a list of available products and their price:\\n\")\n",
    "\n",
    "        for product in productsDict:\n",
    "            print(f\"{product}\\nQty: {productsDict[product][0]} Price: {productsDict[product][1]}\\n\")\n",
    "\n",
    "        # desiredProduct = input(f\"\\nWhat would you like to add to your cart?\").lower()\n",
    "\n",
    "        # if(desiredProduct in productsDict):\n",
    "        #     qtyAvailable = productsDict[desiredProduct][0]\n",
    "        #     if(qtyAvailable <= 0):\n",
    "        #         print(f\"Oh no! There are no more {desiredProduct} on the shelf! Choose another item.\")\n",
    "        #         continue\n",
    "        #     else:\n",
    "        #         print(f\"\\nYou want to add {desiredProduct} to your cart.\")\n",
    "        #         productCost = productsDict[desiredProduct][1]\n",
    "        #         itemFound = True\n",
    "        # else:\n",
    "        #     print(f\"{desiredProduct} is not available on the shelf. Please choose again.\")\n",
    "        #     continue\n",
    "\n",
    "        chosenProduct = askForProduct(productsDict) #Remember this does NOT return the product price in 43\n",
    "\n",
    "        try:\n",
    "            desiredProductQty = int(input(f\"\\nHow many {desiredProduct} would you like?\"))\n",
    "        except:\n",
    "            print(\"\\nError! Please enter a valid whole number without any decimals.\")\n",
    "            continue\n",
    "        else:\n",
    "            if(desiredProductQty > qtyAvailable):\n",
    "                print(f\"\\nOh no! There are only {qtyAvailable} {desiredProduct} available! Adding to cart.\")\n",
    "                desiredProductCost = round(qtyAvailable * productCost, 2)\n",
    "                cartTotal += desiredProductCost\n",
    "                print(f\"\\n{qtyAvailable} {desiredProduct} added to cart. ${desiredProductCost} added to cart total.\")\n",
    "                productsDict[desiredProduct][0] -= qtyAvailable\n",
    "            else:\n",
    "                print(f\"\\nAdding {desiredProductQty} {desiredProduct} to cart.\")\n",
    "                desiredProductCost = round(desiredProductQty * productCost, 2)\n",
    "                cartTotal += desiredProductCost\n",
    "                print(f\"\\n{desiredProductQty} {desiredProduct} added to cart. ${desiredProductCost} added to cart total.\")\n",
    "                productsDict[desiredProduct][0] -= desiredProductQty\n",
    "            quantityValid = True\n",
    "\n",
    "    addItemsValid = False\n",
    "\n",
    "    while not addItemsValid:\n",
    "\n",
    "        addItemsInput = input(\"\\nWould you like to add more items to your cart? (Y/N)\").lower()\n",
    "\n",
    "        if addItemsInput == \"n\":\n",
    "            addMoreItems = False\n",
    "            print(\"You said No. Checking out.\")\n",
    "            addItemsValid = True\n",
    "        elif addItemsInput == \"y\":\n",
    "            print(\"You said you would like to add more items to your cart.\")\n",
    "            addItemsValid = True\n",
    "        else:\n",
    "            print(\"Please type \\\"Y\\\" for yes or \\\"N\\\" for no.\")\n",
    "            continue\n",
    "\n",
    "\n",
    "print(f\"\\nThank you for shopping at Code Mart! Your total cost was ${cartTotal}.\")"
   ]
  },
  {
   "cell_type": "markdown",
   "metadata": {},
   "source": [
    "### New functionality\n",
    "\n",
    "Nice! Now that we have refactored our code, let's add some new functionality. We have a customer removing items from the shelf, what if we want to restock the shelf? Let's ignore the omniscient aspect of this scenario and create a function that will allow you to restock an item on the shelf. You will have the freedom to determine how this will work and how it will interact with your code."
   ]
  },
  {
   "cell_type": "markdown",
   "metadata": {},
   "source": [
    "___"
   ]
  },
  {
   "cell_type": "markdown",
   "metadata": {},
   "source": [
    "`Here, you can write some psuedo code to lay out the logic of this function`"
   ]
  },
  {
   "cell_type": "markdown",
   "metadata": {},
   "source": [
    "Add psuedo code here (you can edit using cell options while hovering over or double-click)"
   ]
  },
  {
   "cell_type": "markdown",
   "metadata": {},
   "source": [
    "---"
   ]
  },
  {
   "cell_type": "markdown",
   "metadata": {},
   "source": [
    "`Here, let's write the normal code without putting it into the function and test it!`"
   ]
  },
  {
   "cell_type": "code",
   "execution_count": null,
   "metadata": {},
   "outputs": [],
   "source": [
    "# Code"
   ]
  },
  {
   "cell_type": "code",
   "execution_count": null,
   "metadata": {},
   "outputs": [],
   "source": [
    "# Test code"
   ]
  },
  {
   "cell_type": "markdown",
   "metadata": {},
   "source": [
    "___"
   ]
  },
  {
   "cell_type": "markdown",
   "metadata": {},
   "source": [
    "`Next, we will refactor the code into a function.`"
   ]
  },
  {
   "cell_type": "code",
   "execution_count": null,
   "metadata": {},
   "outputs": [],
   "source": [
    "# Function Code"
   ]
  },
  {
   "cell_type": "code",
   "execution_count": null,
   "metadata": {},
   "outputs": [],
   "source": [
    "# Test Function"
   ]
  },
  {
   "cell_type": "markdown",
   "metadata": {},
   "source": [
    "___"
   ]
  },
  {
   "cell_type": "markdown",
   "metadata": {},
   "source": [
    "`Finally, let's add this code to the overall program!`"
   ]
  },
  {
   "cell_type": "code",
   "execution_count": null,
   "metadata": {},
   "outputs": [],
   "source": [
    "# Code here"
   ]
  }
 ],
 "metadata": {
  "kernelspec": {
   "display_name": "Python 3",
   "language": "python",
   "name": "python3"
  },
  "language_info": {
   "codemirror_mode": {
    "name": "ipython",
    "version": 3
   },
   "file_extension": ".py",
   "mimetype": "text/x-python",
   "name": "python",
   "nbconvert_exporter": "python",
   "pygments_lexer": "ipython3",
   "version": "3.12.1"
  }
 },
 "nbformat": 4,
 "nbformat_minor": 2
}
