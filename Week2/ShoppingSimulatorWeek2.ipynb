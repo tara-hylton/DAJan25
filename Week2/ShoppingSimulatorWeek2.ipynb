{
 "cells": [
  {
   "cell_type": "markdown",
   "metadata": {},
   "source": [
    "### Welcome to Code:You Week 2!\n",
    "\n",
    "Last week, we reviewed Python basics. This week, we will be implementing additional functionality to our shopping simulator. We will keep the same user structure as last week with a few small edits."
   ]
  },
  {
   "cell_type": "markdown",
   "metadata": {},
   "source": [
    "## Code from last week:"
   ]
  },
  {
   "cell_type": "code",
   "execution_count": null,
   "metadata": {},
   "outputs": [],
   "source": [
    "bananas = 'bananas'\n",
    "bananasPrice = 0.49\n",
    "bananasQty = 4\n",
    "\n",
    "groundBeef = 'ground beef'\n",
    "groundBeefPrice = 5.67\n",
    "groundBeefQty = 7\n",
    "\n",
    "spam = 'spam'\n",
    "spamPrice = 1.62\n",
    "spamQty = 5\n",
    "\n",
    "plasticWrap = 'plastic wrap'\n",
    "plasticWrapPrice = 5.99\n",
    "plasticWrapQty = 3\n",
    "\n",
    "toiletPaper = 'toilet paper'\n",
    "toiletPaperPrice = 12.00\n",
    "toiletPaperQty = 6\n",
    "\n",
    "cartTotal = 0.0\n",
    "\n",
    "addMoreItems = True\n",
    "\n",
    "print(\"Welcome to Code Mart!\")\n",
    "\n",
    "while addMoreItems:\n",
    "    print(f\"Here is a list of available products and their price:\\n\")\n",
    "\n",
    "    print(f\"{bananas}\\nQty: {bananasQty} Price: {bananasPrice}\")\n",
    "    print(f\"{groundBeef}\\nQty: {groundBeefQty} Price: {groundBeefPrice}\")\n",
    "    print(f\"{spam}\\nQty: {spamQty} Price: {spamPrice}\")\n",
    "    print(f\"{plasticWrap}\\nQty: {plasticWrapQty} Price: {plasticWrapPrice}\")\n",
    "    print(f\"{toiletPaper}\\nQty: {toiletPaperQty} Price: {toiletPaperPrice}\")\n",
    "\n",
    "    desiredProduct = input(f\"\\nWhat would you like to add to your cart?\")\n",
    "\n",
    "    desiredProductQty = float(input(f\"\\nHow many {desiredProduct} would you like?\"))\n",
    "\n",
    "    desiredProductCost = 0.0\n",
    "\n",
    "    if desiredProduct == bananas:\n",
    "        desiredProductCost = round(desiredProductQty * bananasPrice, 2)\n",
    "        bananasQty -= desiredProductQty\n",
    "    elif desiredProduct == groundBeef:\n",
    "        desiredProductCost = round(desiredProductQty * groundBeefPrice, 2)\n",
    "        groundBeefQty -= desiredProductQty\n",
    "    elif desiredProduct == spam:\n",
    "        desiredProductCost = round(desiredProductQty * spamPrice, 2)\n",
    "        spamQty -= desiredProductQty\n",
    "    elif desiredProduct == plasticWrap:\n",
    "        desiredProductCost = round(desiredProductQty * plasticWrapPrice, 2)\n",
    "        plasticWrapQty -= desiredProductQty\n",
    "    elif desiredProduct == toiletPaper:\n",
    "        desiredProductCost = round(desiredProductQty * toiletPaperPrice, 2)\n",
    "        toiletPaperQty -= desiredProductQty\n",
    "    else:\n",
    "        print(\"Available product was not chosen!\")\n",
    "\n",
    "    cartTotal += desiredProductCost\n",
    "\n",
    "    print(f\"{desiredProduct} added to cart! ${desiredProductCost} was added to your cart total.\\n\")\n",
    "\n",
    "    addItemsInput = input(\"Would you like to add more items to your cart? (Y/N)\")\n",
    "\n",
    "    if addItemsInput == \"N\":\n",
    "        addMoreItems = False\n",
    "    else:\n",
    "        continue\n",
    "\n",
    "\n",
    "print(f\"Thank you for shopping at Code Mart! Your total cost was ${cartTotal}.\")\n",
    "\n"
   ]
  },
  {
   "cell_type": "markdown",
   "metadata": {},
   "source": [
    "### Simplifying our code using dictionaries\n",
    "\n",
    "The code above is a lot. Individually assigning values to the product name, quantity, and cost create a lot of variables to keep track of. Let's work on condensing these values into a dictionary.\n",
    "\n",
    "Dictionaries are lists of key:value pairs. The first value is the key, which can be passed into the dictionary to return the value assigned to it.\n",
    "\n",
    "For example, here is a sample dictionary of my favorite drinks.\n",
    "\n",
    "```python\n",
    "favoriteDrinksDict = {\n",
    "    \"tea\": \"McAlister's\",\n",
    "    \"soda\": \"Sprite\",\n",
    "    \"water\": \"SmartWater\",\n",
    "    \"milk\": \"chocolate\"\n",
    "}\n",
    "```\n",
    "\n",
    "Run the code below to show an example of using the dictionary to retrieve values using the `get` function."
   ]
  },
  {
   "cell_type": "code",
   "execution_count": 1,
   "metadata": {},
   "outputs": [
    {
     "name": "stdout",
     "output_type": "stream",
     "text": [
      "McAlister's\n"
     ]
    }
   ],
   "source": [
    "favoriteDrinksDict = {\n",
    "    \"tea\": \"McAlister's\",\n",
    "    \"soda\": \"Sprite\",\n",
    "    \"water\": \"SmartWater\",\n",
    "    \"milk\": \"chocolate\"\n",
    "}\n",
    "\n",
    "print(favoriteDrinksDict.get(\"tea\"))"
   ]
  },
  {
   "cell_type": "markdown",
   "metadata": {},
   "source": [
    "One other skill we need to use here is a list. Both allow a mixture of data types, but lists have the ability to change. There are functions where you can change, add, remove, and reorder items in a list. Tuples cannot be modified. Lists\n",
    "\n",
    "```python\n",
    "floatList = [\"apples\", 1.0, \"fish\", 1934]\n",
    "\n",
    "```\n",
    "\n",
    "Run the following code blocks:\n"
   ]
  },
  {
   "cell_type": "code",
   "execution_count": 2,
   "metadata": {},
   "outputs": [
    {
     "name": "stdout",
     "output_type": "stream",
     "text": [
      "['bananas', 1.0, 'fish', 1934]\n"
     ]
    }
   ],
   "source": [
    "#Changing item in a list\n",
    "\n",
    "floatList = [\"apples\", 1.0, \"fish\", 1934]\n",
    "floatList[0] = \"bananas\"\n",
    "print(floatList)"
   ]
  },
  {
   "cell_type": "code",
   "execution_count": 3,
   "metadata": {},
   "outputs": [
    {
     "name": "stdout",
     "output_type": "stream",
     "text": [
      "['apples', 1.0, 'fish', 1934, 'bananas']\n"
     ]
    }
   ],
   "source": [
    "#Adding an item to the end a list\n",
    "\n",
    "floatList = [\"apples\", 1.0, \"fish\", 1934]\n",
    "floatList.append(\"bananas\")\n",
    "print(floatList)"
   ]
  },
  {
   "cell_type": "code",
   "execution_count": 4,
   "metadata": {},
   "outputs": [
    {
     "name": "stdout",
     "output_type": "stream",
     "text": [
      "['apples', 'bananas', 1.0, 'fish', 1934]\n"
     ]
    }
   ],
   "source": [
    "#Adding an item to the middle of a list\n",
    "\n",
    "floatList = [\"apples\", 1.0, \"fish\", 1934]\n",
    "floatList.insert(1, \"bananas\")\n",
    "print(floatList)"
   ]
  },
  {
   "cell_type": "code",
   "execution_count": 5,
   "metadata": {},
   "outputs": [
    {
     "name": "stdout",
     "output_type": "stream",
     "text": [
      "['apples', 1.0, 1934]\n"
     ]
    }
   ],
   "source": [
    "#Remove a specific item from the list\n",
    "\n",
    "floatList = [\"apples\", 1.0, \"fish\", 1934]\n",
    "floatList.remove(\"fish\")\n",
    "print(floatList)"
   ]
  },
  {
   "cell_type": "code",
   "execution_count": 6,
   "metadata": {},
   "outputs": [
    {
     "name": "stdout",
     "output_type": "stream",
     "text": [
      "['apples', 1.0, 'fish']\n"
     ]
    }
   ],
   "source": [
    "#Remove an item from the list based off location\n",
    "\n",
    "floatList = [\"apples\", 1.0, \"fish\", 1934]\n",
    "floatList.pop(3)\n",
    "print(floatList)"
   ]
  },
  {
   "cell_type": "markdown",
   "metadata": {},
   "source": [
    "To apply this to our shopping cart problem, we need to determine the order we want our list items to be in. Let's do [Qty, Price]. Create a dictionary with our products as the key and the associated list as the value. The first is started for you."
   ]
  },
  {
   "cell_type": "code",
   "execution_count": 7,
   "metadata": {},
   "outputs": [
    {
     "name": "stdout",
     "output_type": "stream",
     "text": [
      "{'bananas': [4, 0.49], 'ground beef': [7, 5.67], 'Spam': [5, 1.62], 'plastic wrap': [3, 5.99], 'toilet paper': [6, 12.0]}\n"
     ]
    }
   ],
   "source": [
    "productsDict = {\n",
    "    \"bananas\": [4, 0.49],\n",
    "    \"ground beef\": [7, 5.67],\n",
    "    \"Spam\": [5, 1.62],\n",
    "    \"plastic wrap\": [3, 5.99],\n",
    "    \"toilet paper\": [6, 12.00]\n",
    "}\n",
    "\n",
    "print(productsDict)"
   ]
  },
  {
   "cell_type": "markdown",
   "metadata": {},
   "source": [
    "Replace the inital variable values in the starting code with your dictionary in the last block. This code will not run yet."
   ]
  },
  {
   "cell_type": "markdown",
   "metadata": {},
   "source": [
    "### Retrieving dictionary values\n",
    "Instead of using these variable values, we can get these values from the dictionary. The below code is used as an example.\n",
    "\n",
    "Dictionaries have a .keys() function that will display all of the key values. Raw, you cannot use this result to grab a specific value. Thus, we have to turn this into a list to grab the key.\n",
    "\n",
    "```python\n",
    "#Raw\n",
    "productsDict.keys()\n",
    "```\n",
    "`Result: dict_keys(['bananas'])`\n",
    "\n",
    "```python\n",
    "#Turn into a list\n",
    "list(productsDict.keys())\n",
    "```\n",
    "`Result: ['bananas']`\n",
    "\n",
    "```python\n",
    "#Access list value\n",
    "list(productsDict.keys())[0]\n",
    "```\n",
    "`Result: bananas`\n",
    "\n",
    "When using the values function, the return will be the list of values in order of the keys. Thus, we can get the values with the same index number.\n",
    "\n",
    "```python\n",
    "#Raw values\n",
    "productsDict.values()\n",
    "```\n",
    "`Result: dict_values([[4, 0.49]])`\n",
    "\n",
    "```python\n",
    "#Create a list of values so we can access them\n",
    "list(productsDict.values())\n",
    "```\n",
    "`Result: [[4, 0.49]]`\n",
    "\n",
    "Note there is only one element in this list. If there were more, it would show as\n",
    "\n",
    "`Result: [[4, 0.49], [5, 0.53]]`\n",
    "\n",
    "```python\n",
    "#Access a list value\n",
    "list(productsDict.values())[0]\n",
    "```\n",
    "`Result: [4, 0.49]`\n",
    "\n",
    "```python\n",
    "#Access the resulting list value from above.\n",
    "list(productsDict.values())[0][0]\n",
    "```\n",
    "`Result: 4`\n",
    "\n",
    "Remember that our value now will be a list. The above returns the list, so we just need to add a second index accessor to get into the list. The example of the code to run is below. Use the follow example to replace the following code in the last cell of this notebook.:\n",
    "\n",
    "```python\n",
    "print(f\"{bananas}\\nQty: {bananasQty} Price: {bananasPrice}\")\n",
    "print(f\"{groundBeef}\\nQty: {groundBeefQty} Price: {groundBeefPrice}\")\n",
    "print(f\"{spam}\\nQty: {spamQty} Price: {spamPrice}\")\n",
    "print(f\"{plasticWrap}\\nQty: {plasticWrapQty} Price: {plasticWrapPrice}\")\n",
    "print(f\"{toiletPaper}\\nQty: {toiletPaperQty} Price: {toiletPaperPrice}\")\n",
    "```\n",
    "\n",
    "Hint: You can use a loop to iterate through the dictionary and list values.\n",
    "\n",
    "```python\n",
    "for x in myDict:\n",
    "    print(f\"{f\"{list(myDict.keys())[x]}\"}\\nQty: {list(myDict.values())[x][0]} Price: {list(productsDict.values())[x][1]}\")\n",
    "```\n",
    "\n"
   ]
  },
  {
   "cell_type": "code",
   "execution_count": 2,
   "metadata": {},
   "outputs": [
    {
     "name": "stdout",
     "output_type": "stream",
     "text": [
      "bananas\n",
      "Qty: 4 Price: 0.49\n",
      "ground beef\n",
      "Qty: 7 Price: 5.67\n",
      "Spam\n",
      "Qty: 5 Price: 1.62\n",
      "plastic wrap\n",
      "Qty: 3 Price: 5.99\n",
      "toilet paper\n",
      "Qty: 6 Price: 12.0\n"
     ]
    }
   ],
   "source": [
    "#Initial Example of the Dictionary\n",
    "\n",
    "# productsDict = {\n",
    "#     \"bananas\": [4, 0.49]\n",
    "# }\n",
    "\n",
    "#Sample print statement\n",
    "#print(f\"{f\"{list(productsDict.keys())[0]}\"}\\nQty: {list(productsDict.values())[0][0]} Price: {list(productsDict.values())[0][1]}\")\n",
    "\n",
    "#Needed: For loop\n",
    "#You can test your for loop here.\n",
    "productsDict = {\n",
    "    \"bananas\": [4, 0.49],\n",
    "    \"ground beef\": [7, 5.67],\n",
    "    \"Spam\": [5, 1.62],\n",
    "    \"plastic wrap\": [3, 5.99],\n",
    "    \"toilet paper\": [6, 12.00]\n",
    "}\n",
    "for x in productsDict:\n",
    "    x = 0\n",
    "    while x < len(productsDict):\n",
    "        print(f\"{f\"{list(productsDict.keys())[x]}\"}\\nQty: {list(productsDict.values())[x][0]} Price: {list(productsDict.values())[x][1]}\")\n",
    "        x +=1\n",
    "    else:\n",
    "        break"
   ]
  },
  {
   "cell_type": "markdown",
   "metadata": {},
   "source": [
    "Replace the following code value with your for loop in the last code cell. (This was said before, this is just a reminder in case it was missed.)\n",
    "\n",
    "```python\n",
    "print(f\"{bananas}\\nQty: {bananasQty} Price: {bananasPrice}\")\n",
    "print(f\"{groundBeef}\\nQty: {groundBeefQty} Price: {groundBeefPrice}\")\n",
    "print(f\"{spam}\\nQty: {spamQty} Price: {spamPrice}\")\n",
    "print(f\"{plasticWrap}\\nQty: {plasticWrapQty} Price: {plasticWrapPrice}\")\n",
    "print(f\"{toiletPaper}\\nQty: {toiletPaperQty} Price: {toiletPaperPrice}\")\n",
    "```"
   ]
  },
  {
   "cell_type": "markdown",
   "metadata": {},
   "source": [
    "### Second dictionary usage!\n",
    "\n",
    "Use the same methods as above to replace the values below. Values that need changed are pointed out in the first part of the `if` statement. Remember that you can use a `for` loop!\n",
    "\n",
    "```python\n",
    " if desiredProduct == bananas: #replace the bananas value with a dictionary key\n",
    "    desiredProductCost = round(desiredProductQty * bananasPrice, 2) #replace the bananasPrice value with a dictionary value\n",
    "    bananasQty -= desiredProductQty\n",
    "elif desiredProduct == groundBeef:\n",
    "    desiredProductCost = round(desiredProductQty * groundBeefPrice, 2)\n",
    "    groundBeefQty -= desiredProductQty\n",
    "elif desiredProduct == spam:\n",
    "    desiredProductCost = round(desiredProductQty * spamPrice, 2)\n",
    "    spamQty -= desiredProductQty\n",
    "elif desiredProduct == plasticWrap:\n",
    "    desiredProductCost = round(desiredProductQty * plasticWrapPrice, 2)\n",
    "    plasticWrapQty -= desiredProductQty\n",
    "elif desiredProduct == toiletPaper:\n",
    "    desiredProductCost = round(desiredProductQty * toiletPaperPrice, 2)\n",
    "    toiletPaperQty -= desiredProductQty\n",
    "else:\n",
    "    print(\"Available product was not chosen!\")\n",
    "```"
   ]
  },
  {
   "cell_type": "markdown",
   "metadata": {},
   "source": [
    "### Checking user input\n",
    "\n",
    "Notice that the code above makes it easy to throw an error due to user input. What if the user enters a value that isn't intended to be used? This will allow the input but later throw an error because there are no values assigned.\n",
    "\n",
    "Look at the code above and use a loop to check user input. If the value is amongst accesible options, then the program can continue. If it is not, the user will be required to resubmit their answer until they use an appropriate answer. To help simplify capitalization errors, use .lower() on user input on the item name and use an `if` to validate that the item is available at the store, for the desired quantity, use an ` if ` statement to make sure the quantity value entered is a valid float."
   ]
  },
  {
   "cell_type": "code",
   "execution_count": null,
   "metadata": {},
   "outputs": [],
   "source": [
    "##Use .lower() on the input and use a combination of 'while' and 'if' statement to ensure the value entered is an existing key in the dictionary.\n",
    "##Remember that to exit the 'while' loop, there must be a condition result that is evaluated to 'false'\n",
    "\n",
    "#while a valid product is not chosen\n",
    "\n",
    "desiredProduct = input(f\"\\nWhat would you like to add to your cart?\")\n",
    "\n",
    "#if statement to verify the input is available in the dictionary\n",
    "#remember to set the valid product chosen to True if the item is available in the dictionary."
   ]
  },
  {
   "cell_type": "markdown",
   "metadata": {},
   "source": [
    "To test the desired product quantity, we will need to use a try block. If we try to check whether a string entered can be turned into a float, our program will fail with an error.\n",
    "\n",
    "A try block has the following components:\n",
    "\n",
    "```\n",
    "try: the code to run\n",
    "except: What you want to do if the code encounters an error\n",
    "else: what you want the code to do if there is not an error\n",
    "finally: what you want the code to do whether there is an error or not\n",
    "```"
   ]
  },
  {
   "cell_type": "code",
   "execution_count": null,
   "metadata": {},
   "outputs": [],
   "source": [
    "#Use an if statement to apply a technique we learned in Week 1 to check the datatype of the result.\n",
    "\n",
    "try:\n",
    "    float(input(f\"\\nHow many {desiredProduct} would you like?\"))\n",
    "except:\n",
    "    #remove commented continue in the actual code. If there is an error, we want to restart the while loop\n",
    "    print(\"This is not a valid number.\")\n",
    "    #continue\n",
    "else:\n",
    "    #remove 'None' and add rest of code between this statement and the thank you statement\n",
    "    None"
   ]
  },
  {
   "cell_type": "markdown",
   "metadata": {},
   "source": [
    "Please replace the code at the float input statement and beyond with the code you wrote above."
   ]
  },
  {
   "cell_type": "markdown",
   "metadata": {},
   "source": [
    "## Final Code"
   ]
  },
  {
   "cell_type": "code",
   "execution_count": null,
   "metadata": {},
   "outputs": [
    {
     "name": "stdout",
     "output_type": "stream",
     "text": [
      "Welcome to Code Mart!\n",
      "Here is a list of available products and their price:\n",
      "\n",
      "bananas\n",
      "Qty: 4 Price: 0.49\n",
      "ground beef\n",
      "Qty: 7 Price: 5.67\n",
      "Spam\n",
      "Qty: 5 Price: 1.62\n",
      "plastic wrap\n",
      "Qty: 3 Price: 5.99\n",
      "toilet paper\n",
      "Qty: 6 Price: 12.0\n",
      "We do not have that in stock.\n"
     ]
    },
    {
     "ename": "KeyboardInterrupt",
     "evalue": "Interrupted by user",
     "output_type": "error",
     "traceback": [
      "\u001b[31m---------------------------------------------------------------------------\u001b[39m",
      "\u001b[31mKeyboardInterrupt\u001b[39m                         Traceback (most recent call last)",
      "\u001b[36mCell\u001b[39m\u001b[36m \u001b[39m\u001b[32mIn[1]\u001b[39m\u001b[32m, line 27\u001b[39m\n\u001b[32m     25\u001b[39m chosenProduct = \u001b[38;5;28;01mTrue\u001b[39;00m\n\u001b[32m     26\u001b[39m \u001b[38;5;28;01mwhile\u001b[39;00m chosenProduct \u001b[38;5;129;01mis\u001b[39;00m \u001b[38;5;28;01mTrue\u001b[39;00m:\n\u001b[32m---> \u001b[39m\u001b[32m27\u001b[39m     desiredProduct = \u001b[38;5;28;43minput\u001b[39;49m\u001b[43m(\u001b[49m\u001b[33;43mf\u001b[39;49m\u001b[33;43m\"\u001b[39;49m\u001b[38;5;130;43;01m\\n\u001b[39;49;00m\u001b[33;43mWhat would you like to add to your cart?\u001b[39;49m\u001b[33;43m\"\u001b[39;49m\u001b[43m)\u001b[49m.lower\n\u001b[32m     28\u001b[39m     \u001b[38;5;28;01mif\u001b[39;00m desiredProduct \u001b[38;5;129;01mnot\u001b[39;00m \u001b[38;5;129;01min\u001b[39;00m productsDict:\n\u001b[32m     29\u001b[39m         \u001b[38;5;28mprint\u001b[39m(\u001b[33m\"\u001b[39m\u001b[33mWe do not have that in stock.\u001b[39m\u001b[33m\"\u001b[39m)\n",
      "\u001b[36mFile \u001b[39m\u001b[32m~\\AppData\\Roaming\\Python\\Python313\\site-packages\\ipykernel\\kernelbase.py:1282\u001b[39m, in \u001b[36mKernel.raw_input\u001b[39m\u001b[34m(self, prompt)\u001b[39m\n\u001b[32m   1280\u001b[39m     msg = \u001b[33m\"\u001b[39m\u001b[33mraw_input was called, but this frontend does not support input requests.\u001b[39m\u001b[33m\"\u001b[39m\n\u001b[32m   1281\u001b[39m     \u001b[38;5;28;01mraise\u001b[39;00m StdinNotImplementedError(msg)\n\u001b[32m-> \u001b[39m\u001b[32m1282\u001b[39m \u001b[38;5;28;01mreturn\u001b[39;00m \u001b[38;5;28;43mself\u001b[39;49m\u001b[43m.\u001b[49m\u001b[43m_input_request\u001b[49m\u001b[43m(\u001b[49m\n\u001b[32m   1283\u001b[39m \u001b[43m    \u001b[49m\u001b[38;5;28;43mstr\u001b[39;49m\u001b[43m(\u001b[49m\u001b[43mprompt\u001b[49m\u001b[43m)\u001b[49m\u001b[43m,\u001b[49m\n\u001b[32m   1284\u001b[39m \u001b[43m    \u001b[49m\u001b[38;5;28;43mself\u001b[39;49m\u001b[43m.\u001b[49m\u001b[43m_parent_ident\u001b[49m\u001b[43m[\u001b[49m\u001b[33;43m\"\u001b[39;49m\u001b[33;43mshell\u001b[39;49m\u001b[33;43m\"\u001b[39;49m\u001b[43m]\u001b[49m\u001b[43m,\u001b[49m\n\u001b[32m   1285\u001b[39m \u001b[43m    \u001b[49m\u001b[38;5;28;43mself\u001b[39;49m\u001b[43m.\u001b[49m\u001b[43mget_parent\u001b[49m\u001b[43m(\u001b[49m\u001b[33;43m\"\u001b[39;49m\u001b[33;43mshell\u001b[39;49m\u001b[33;43m\"\u001b[39;49m\u001b[43m)\u001b[49m\u001b[43m,\u001b[49m\n\u001b[32m   1286\u001b[39m \u001b[43m    \u001b[49m\u001b[43mpassword\u001b[49m\u001b[43m=\u001b[49m\u001b[38;5;28;43;01mFalse\u001b[39;49;00m\u001b[43m,\u001b[49m\n\u001b[32m   1287\u001b[39m \u001b[43m\u001b[49m\u001b[43m)\u001b[49m\n",
      "\u001b[36mFile \u001b[39m\u001b[32m~\\AppData\\Roaming\\Python\\Python313\\site-packages\\ipykernel\\kernelbase.py:1325\u001b[39m, in \u001b[36mKernel._input_request\u001b[39m\u001b[34m(self, prompt, ident, parent, password)\u001b[39m\n\u001b[32m   1322\u001b[39m \u001b[38;5;28;01mexcept\u001b[39;00m \u001b[38;5;167;01mKeyboardInterrupt\u001b[39;00m:\n\u001b[32m   1323\u001b[39m     \u001b[38;5;66;03m# re-raise KeyboardInterrupt, to truncate traceback\u001b[39;00m\n\u001b[32m   1324\u001b[39m     msg = \u001b[33m\"\u001b[39m\u001b[33mInterrupted by user\u001b[39m\u001b[33m\"\u001b[39m\n\u001b[32m-> \u001b[39m\u001b[32m1325\u001b[39m     \u001b[38;5;28;01mraise\u001b[39;00m \u001b[38;5;167;01mKeyboardInterrupt\u001b[39;00m(msg) \u001b[38;5;28;01mfrom\u001b[39;00m\u001b[38;5;250m \u001b[39m\u001b[38;5;28;01mNone\u001b[39;00m\n\u001b[32m   1326\u001b[39m \u001b[38;5;28;01mexcept\u001b[39;00m \u001b[38;5;167;01mException\u001b[39;00m:\n\u001b[32m   1327\u001b[39m     \u001b[38;5;28mself\u001b[39m.log.warning(\u001b[33m\"\u001b[39m\u001b[33mInvalid Message:\u001b[39m\u001b[33m\"\u001b[39m, exc_info=\u001b[38;5;28;01mTrue\u001b[39;00m)\n",
      "\u001b[31mKeyboardInterrupt\u001b[39m: Interrupted by user"
     ]
    }
   ],
   "source": [
    "\n",
    "\n",
    "\n",
    "cartTotal = 0.0\n",
    "\n",
    "addMoreItems = True\n",
    "\n",
    "print(\"Welcome to Code Mart!\")\n",
    "print(f\"Here is a list of available products and their price:\\n\")\n",
    "productsDict = {\n",
    "    \"bananas\": [4, 0.49],\n",
    "    \"ground beef\": [7, 5.67],\n",
    "    \"Spam\": [5, 1.62],\n",
    "    \"plastic wrap\": [3, 5.99],\n",
    "    \"toilet paper\": [6, 12.00]\n",
    "    }\n",
    "\n",
    "while addMoreItems:\n",
    "\n",
    "    for x in productsDict:\n",
    "        x = 0\n",
    "        while x < len(productsDict):\n",
    "            print(f\"{f\"{list(productsDict.keys())[x]}\"}\\nQty: {list(productsDict.values())[x][0]} Price: {list(productsDict.values())[x][1]}\")\n",
    "            x +=1\n",
    "        else:\n",
    "            break\n",
    "\n",
    "    chosenProduct = True\n",
    "    while chosenProduct is True:\n",
    "        desiredProduct = input(f\"\\nWhat would you like to add to your cart?\").lower\n",
    "        if desiredProduct not in productsDict:\n",
    "            print(\"We do not have that product in stock. \")\n",
    "            continue\n",
    "        else:\n",
    "            chosenProduct = False\n",
    "\n",
    "    chosenQty = True\n",
    "    while chosenQty is True:\n",
    "        desiredProductQty = float(input(f\"\\nHow many {desiredProduct} would you like?\"))\n",
    "        if type(desiredProductQty) is not float:\n",
    "            print(\"This is not a valid number.\")\n",
    "            continue\n",
    "        else:\n",
    "            chosenQty = False\n",
    "            desiredProductCost = 0.0\n",
    "            for product in list(productsDict.keys()):\n",
    "                if desiredProduct == list(productsDict.keys())[0]:\n",
    "                    desiredProductCost = round(desiredProductQty * list(productsDict.values())[0][1], 2)\n",
    "                    #bananasQty -= desiredProductQty\n",
    "                elif desiredProduct == list(productsDict.keys())[1]:\n",
    "                    desiredProductCost = round(desiredProductQty * list(productsDict.values())[1][1], 2)\n",
    "                    #groundBeefQty -= desiredProductQty\n",
    "                elif desiredProduct == list(productsDict.keys())[2]:\n",
    "                    desiredProductCost = round(desiredProductQty * list(productsDict.values())[2][1], 2)\n",
    "                #     spamQty -= desiredProductQty\n",
    "                elif desiredProduct == list(productsDict.keys())[3]:\n",
    "                    desiredProductCost = round(desiredProductQty * list(productsDict.values())[3][1], 2)\n",
    "                #     plasticWrapQty -= desiredProductQty\n",
    "                elif desiredProduct == list(productsDict.keys())[4]:\n",
    "                    desiredProductCost = round(desiredProductQty * list(productsDict.values())[4][1], 2)\n",
    "                #     toiletPaperQty -= desiredProductQty\n",
    "    \n",
    "    \n",
    "\n",
    "    cartTotal += desiredProductCost\n",
    "\n",
    "    print(f\"{desiredProduct} added to cart! ${desiredProductCost} was added to your cart total.\\n\")\n",
    "\n",
    "    addItemsInput = input(\"Would you like to add more items to your cart? (Y/N)\")\n",
    "\n",
    "    if addItemsInput == \"N\":\n",
    "        addMoreItems = False\n",
    "    else:\n",
    "        continue\n",
    "\n",
    "\n",
    "print(f\"Thank you for shopping at Code Mart! Your total cost was ${cartTotal}.\")"
   ]
  },
  {
   "cell_type": "markdown",
   "metadata": {},
   "source": []
  }
 ],
 "metadata": {
  "kernelspec": {
   "display_name": "Python 3",
   "language": "python",
   "name": "python3"
  },
  "language_info": {
   "codemirror_mode": {
    "name": "ipython",
    "version": 3
   },
   "file_extension": ".py",
   "mimetype": "text/x-python",
   "name": "python",
   "nbconvert_exporter": "python",
   "pygments_lexer": "ipython3",
   "version": "3.13.2"
  }
 },
 "nbformat": 4,
 "nbformat_minor": 2
}
