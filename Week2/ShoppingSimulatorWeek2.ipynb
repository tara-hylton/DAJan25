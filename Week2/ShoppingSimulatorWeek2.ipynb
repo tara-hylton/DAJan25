{
 "cells": [
  {
   "cell_type": "markdown",
   "metadata": {},
   "source": [
    "### Welcome to Code:You Week 2!\n",
    "\n",
    "Last week, we reviewed Python basics. This week, we will be implementing additional functionality to our shopping simulator. We will keep the same user structure as last week with a few small edits."
   ]
  },
  {
   "cell_type": "markdown",
   "metadata": {},
   "source": [
    "## Code from last week:"
   ]
  },
  {
   "cell_type": "code",
   "execution_count": null,
   "metadata": {},
   "outputs": [],
   "source": [
    "# This section sets up the products that we have on the shelves,\n",
    "# their price, and how many is currently on the shelf.\n",
    "bananas = 'bananas'\n",
    "bananasPrice = 0.49\n",
    "bananasQty = 4\n",
    "\n",
    "groundBeef = 'ground beef'\n",
    "groundBeefPrice = 5.67\n",
    "groundBeefQty = 7\n",
    "\n",
    "spam = 'spam'\n",
    "spamPrice = 1.62\n",
    "spamQty = 5\n",
    "\n",
    "plasticWrap = 'plastic wrap'\n",
    "plasticWrapPrice = 5.99\n",
    "plasticWrapQty = 3\n",
    "\n",
    "toiletPaper = 'toilet paper'\n",
    "toiletPaperPrice = 12.00\n",
    "toiletPaperQty = 6\n",
    "\n",
    "# This is the amount of all of the items combined\n",
    "# in the cart\n",
    "cartTotal = 0.0\n",
    "\n",
    "# This is used to control the loop. If the user wants to add more items\n",
    "# to their cart, this is True. If they do not, then it will change to false\n",
    "# and break the loop.\n",
    "addMoreItems = True\n",
    "\n",
    "#Our program starts here\n",
    "################################################################################\n",
    "print(\"Welcome to Code Mart!\") #Introduction\n",
    "\n",
    "# The loop that will run that allows the user to add items to their cart\n",
    "while addMoreItems:\n",
    "    print(f\"Here is a list of available products and their price:\\n\")\n",
    "\n",
    "    # In this section, we are printing the available items to the user. We\n",
    "    # are using an f string so we can directly add variables into the string.\n",
    "    print(f\"{bananas}\\nQty: {bananasQty} Price: {bananasPrice}\")\n",
    "    print(f\"{groundBeef}\\nQty: {groundBeefQty} Price: {groundBeefPrice}\")\n",
    "    print(f\"{spam}\\nQty: {spamQty} Price: {spamPrice}\")\n",
    "    print(f\"{plasticWrap}\\nQty: {plasticWrapQty} Price: {plasticWrapPrice}\")\n",
    "    print(f\"{toiletPaper}\\nQty: {toiletPaperQty} Price: {toiletPaperPrice}\")\n",
    "\n",
    "    # Queries the user to choose which item they would like to add. Current implementation\n",
    "    # requires the user to add the EXACT name of the item including spelling and\n",
    "    # capitalization, otherwise it will break later.\n",
    "    desiredProduct = input(f\"\\nWhat would you like to add to your cart?\")\n",
    "\n",
    "    # Queries the user to choose how many they want of the item they chose above.\n",
    "    # Currently, the program will break if they enter anything other than a number. The \n",
    "    # user is also able to add decimals.\n",
    "    desiredProductQty = float(input(f\"\\nHow many {desiredProduct} would you like?\"))\n",
    "\n",
    "    # This will be the cost of a single product that displays as the user\n",
    "    # places each item into the cart.\n",
    "    desiredProductCost = 0.0\n",
    "\n",
    "    # This if statement queries the user input (desiredProduct) and matches it to our available items.\n",
    "    # If a match is found, the cost of the individual item is calculated. The round function is to\n",
    "    # create a currency-like number that is rounded to two decimal points.\n",
    "    if desiredProduct == bananas:\n",
    "        desiredProductCost = round(desiredProductQty * bananasPrice, 2)\n",
    "        bananasQty -= desiredProductQty\n",
    "    elif desiredProduct == groundBeef:\n",
    "        desiredProductCost = round(desiredProductQty * groundBeefPrice, 2)\n",
    "        groundBeefQty -= desiredProductQty\n",
    "    elif desiredProduct == spam:\n",
    "        desiredProductCost = round(desiredProductQty * spamPrice, 2)\n",
    "        spamQty -= desiredProductQty\n",
    "    elif desiredProduct == plasticWrap:\n",
    "        desiredProductCost = round(desiredProductQty * plasticWrapPrice, 2)\n",
    "        plasticWrapQty -= desiredProductQty\n",
    "    elif desiredProduct == toiletPaper:\n",
    "        desiredProductCost = round(desiredProductQty * toiletPaperPrice, 2)\n",
    "        toiletPaperQty -= desiredProductQty\n",
    "    else:\n",
    "        print(\"Available product was not chosen!\")\n",
    "\n",
    "    # Since the user is adding the desired product to their cart, the cost of that item will\n",
    "    # be added to the cart total.\n",
    "    cartTotal += desiredProductCost\n",
    "\n",
    "    # This output is displayed to the user and lets them know what item was added to their cart and\n",
    "    # how much it cost.\n",
    "    print(f\"{desiredProduct} added to cart! ${desiredProductCost} was added to your cart total.\\n\")\n",
    "\n",
    "    # Queries the user to see if they would like to add anything else to their cart.\n",
    "    addItemsInput = input(\"Would you like to add more items to your cart? (Y/N)\")\n",
    "\n",
    "    # Uses that user input. If the user enters \"N\", then the addMoreItems variable\n",
    "    # declared above is set to False.\n",
    "    if addItemsInput == \"N\":\n",
    "        addMoreItems = False\n",
    "    else:\n",
    "        continue\n",
    "\n",
    "\n",
    "print(f\"Thank you for shopping at Code Mart! Your total cost was ${cartTotal}.\")\n",
    "\n"
   ]
  },
  {
   "cell_type": "markdown",
   "metadata": {},
   "source": [
    "### Simplifying our code using dictionaries\n",
    "\n",
    "The code above is a lot. Individually assigning values to the product name, quantity, and cost create a lot of variables to keep track of. Let's work on condensing these values into a dictionary.\n",
    "\n",
    "Dictionaries are lists of key:value pairs. The first value is the key, which can be passed into the dictionary to return the value assigned to it.\n",
    "\n",
    "For example, here is a sample dictionary of my favorite drinks.\n",
    "\n",
    "```python\n",
    "favoriteDrinksDict = {\n",
    "    \"tea\": \"McAlister's\",\n",
    "    \"soda\": \"Sprite\",\n",
    "    \"water\": \"SmartWater\",\n",
    "    \"milk\": \"chocolate\"\n",
    "}\n",
    "```\n",
    "\n",
    "Run the code below to show an example of using the dictionary to retrieve values using the `get` function."
   ]
  },
  {
   "cell_type": "code",
   "execution_count": 1,
   "metadata": {},
   "outputs": [
    {
     "name": "stdout",
     "output_type": "stream",
     "text": [
      "McAlister's\n"
     ]
    }
   ],
   "source": [
    "favoriteDrinksDict = {\n",
    "    \"tea\": \"McAlister's\",\n",
    "    \"soda\": \"Sprite\",\n",
    "    \"water\": \"SmartWater\",\n",
    "    \"milk\": \"chocolate\"\n",
    "}\n",
    "\n",
    "print(favoriteDrinksDict.get(\"tea\"))"
   ]
  },
  {
   "cell_type": "markdown",
   "metadata": {},
   "source": [
    "One other skill we need to use here is a list. Both allow a mixture of data types, but lists have the ability to change. There are functions where you can change, add, remove, and reorder items in a list. Tuples cannot be modified. Lists\n",
    "\n",
    "```python\n",
    "floatList = [\"apples\", 1.0, \"fish\", 1934]\n",
    "\n",
    "```\n",
    "\n",
    "Run the following code blocks:\n"
   ]
  },
  {
   "cell_type": "code",
   "execution_count": 2,
   "metadata": {},
   "outputs": [
    {
     "name": "stdout",
     "output_type": "stream",
     "text": [
      "['bananas', 1.0, 'fish', 1934]\n"
     ]
    }
   ],
   "source": [
    "#Changing item in a list\n",
    "\n",
    "floatList = [\"apples\", 1.0, \"fish\", 1934]\n",
    "floatList[0] = \"bananas\"\n",
    "print(floatList)"
   ]
  },
  {
   "cell_type": "code",
   "execution_count": 3,
   "metadata": {},
   "outputs": [
    {
     "name": "stdout",
     "output_type": "stream",
     "text": [
      "['apples', 1.0, 'fish', 1934, 'bananas']\n"
     ]
    }
   ],
   "source": [
    "#Adding an item to the end a list\n",
    "\n",
    "floatList = [\"apples\", 1.0, \"fish\", 1934]\n",
    "floatList.append(\"bananas\")\n",
    "print(floatList)"
   ]
  },
  {
   "cell_type": "code",
   "execution_count": 4,
   "metadata": {},
   "outputs": [
    {
     "name": "stdout",
     "output_type": "stream",
     "text": [
      "['apples', 'bananas', 1.0, 'fish', 1934]\n"
     ]
    }
   ],
   "source": [
    "#Adding an item to the middle of a list\n",
    "\n",
    "floatList = [\"apples\", 1.0, \"fish\", 1934]\n",
    "floatList.insert(1, \"bananas\")\n",
    "print(floatList)"
   ]
  },
  {
   "cell_type": "code",
   "execution_count": 5,
   "metadata": {},
   "outputs": [
    {
     "name": "stdout",
     "output_type": "stream",
     "text": [
      "['apples', 1.0, 1934]\n"
     ]
    }
   ],
   "source": [
    "#Remove a specific item from the list\n",
    "\n",
    "floatList = [\"apples\", 1.0, \"fish\", 1934]\n",
    "floatList.remove(\"fish\")\n",
    "print(floatList)"
   ]
  },
  {
   "cell_type": "code",
   "execution_count": 6,
   "metadata": {},
   "outputs": [
    {
     "name": "stdout",
     "output_type": "stream",
     "text": [
      "['apples', 1.0, 'fish']\n"
     ]
    }
   ],
   "source": [
    "#Remove an item from the list based off location\n",
    "\n",
    "floatList = [\"apples\", 1.0, \"fish\", 1934]\n",
    "floatList.pop(3)\n",
    "print(floatList)"
   ]
  },
  {
   "cell_type": "markdown",
   "metadata": {},
   "source": [
    "To apply this to our shopping cart problem, we need to determine the order we want our list items to be in. Let's do [Qty, Price]. Create a dictionary with our products as the key and the associated list as the value. The first is started for you."
   ]
  },
  {
   "cell_type": "code",
   "execution_count": 7,
   "metadata": {},
   "outputs": [
    {
     "name": "stdout",
     "output_type": "stream",
     "text": [
      "{'bananas': [4, 0.49], 'ground beef': [7, 5.67], 'Spam': [5, 1.62], 'plastic wrap': [3, 5.99], 'toilet paper': [6, 12.0]}\n"
     ]
    }
   ],
   "source": [
    "productsDict = {\n",
    "    \"bananas\": [4, 0.49],\n",
    "    \"ground beef\": [7, 5.67],\n",
    "    \"Spam\": [5, 1.62],\n",
    "    \"plastic wrap\": [3, 5.99],\n",
    "    \"toilet paper\": [6, 12.00]\n",
    "}\n",
    "\n",
    "print(productsDict)"
   ]
  },
  {
   "cell_type": "markdown",
   "metadata": {},
   "source": [
    "Replace the inital variable values in the starting code with your dictionary in the last block in lines 1-19. This code will not run yet."
   ]
  },
  {
   "cell_type": "markdown",
   "metadata": {},
   "source": [
    "### Retrieving dictionary values\n",
    "Instead of using these variable values, we can get these values from the dictionary. The below code is used as an example.\n",
    "\n",
    "Dictionaries have a .keys() function that will display all of the key values. Raw, you cannot use this result to grab a specific value. Thus, we have to turn this into a list to grab the key.\n",
    "\n",
    "```python\n",
    "#Raw\n",
    "productsDict.keys()\n",
    "```\n",
    "`Result: dict_keys(['bananas'])`\n",
    "\n",
    "```python\n",
    "#Turn into a list\n",
    "list(productsDict.keys())\n",
    "```\n",
    "`Result: ['bananas']`\n",
    "\n",
    "```python\n",
    "#Access list value\n",
    "list(productsDict.keys())[0]\n",
    "```\n",
    "`Result: bananas`\n",
    "\n",
    "When using the values function, the return will be the list of values in order of the keys. Thus, we can get the values with the same index number.\n",
    "\n",
    "```python\n",
    "#Raw values\n",
    "productsDict.values()\n",
    "```\n",
    "`Result: dict_values([[4, 0.49]])`\n",
    "\n",
    "```python\n",
    "#Create a list of values so we can access them\n",
    "list(productsDict.values())\n",
    "```\n",
    "`Result: [[4, 0.49]]`\n",
    "\n",
    "Note there is only one element in this list. If there were more, it would show as\n",
    "\n",
    "`Result: [[4, 0.49], [5, 0.53]]`\n",
    "\n",
    "```python\n",
    "#Access a list value\n",
    "list(productsDict.values())[0]\n",
    "```\n",
    "`Result: [4, 0.49]`\n",
    "\n",
    "```python\n",
    "#Access the resulting list value from above.\n",
    "list(productsDict.values())[0][0]\n",
    "```\n",
    "`Result: 4`\n",
    "\n",
    "Remember that our value now will be a list. The above returns the list, so we just need to add a second index accessor to get into the list. The example of the code to run is below. Use the follow example to replace the following code in the last cell of this notebook.:\n",
    "\n",
    "```python\n",
    "print(f\"{bananas}\\nQty: {bananasQty} Price: {bananasPrice}\")\n",
    "print(f\"{groundBeef}\\nQty: {groundBeefQty} Price: {groundBeefPrice}\")\n",
    "print(f\"{spam}\\nQty: {spamQty} Price: {spamPrice}\")\n",
    "print(f\"{plasticWrap}\\nQty: {plasticWrapQty} Price: {plasticWrapPrice}\")\n",
    "print(f\"{toiletPaper}\\nQty: {toiletPaperQty} Price: {toiletPaperPrice}\")\n",
    "```\n",
    "\n",
    "Hint: You can use a loop to iterate through the dictionary and list values.\n",
    "\n",
    "```python\n",
    "for x in myDict:\n",
    "    print(f\"{f\"{list(myDict.keys())[x]}\"}\\nQty: {list(myDict.values())[x][0]} Price: {list(productsDict.values())[x][1]}\")\n",
    "```\n",
    "\n"
   ]
  },
  {
   "cell_type": "code",
   "execution_count": 6,
   "metadata": {},
   "outputs": [
    {
     "name": "stdout",
     "output_type": "stream",
     "text": [
      "bananas\n",
      "Qty: 4 Price: 0.49\n",
      "\n",
      "ground beef\n",
      "Qty: 7 Price: 5.67\n",
      "\n",
      "Spam\n",
      "Qty: 5 Price: 1.62\n",
      "\n",
      "plastic wrap\n",
      "Qty: 3 Price: 5.99\n",
      "\n",
      "toilet paper\n",
      "Qty: 6 Price: 12.0\n",
      "\n"
     ]
    }
   ],
   "source": [
    "#Initial Example of the Dictionary\n",
    "\n",
    "# productsDict = {\n",
    "#     \"bananas\": [4, 0.49]\n",
    "# }\n",
    "\n",
    "#Sample print statement\n",
    "#print(f\"{f\"{list(productsDict.keys())[0]}\"}\\nQty: {list(productsDict.values())[0][0]} Price: {list(productsDict.values())[0][1]}\")\n",
    "\n",
    "#Needed: For loop\n",
    "#You can test your for loop here.\n",
    "productsDict = {\n",
    "    \"bananas\": [4, 0.49],\n",
    "    \"ground beef\": [7, 5.67],\n",
    "    \"Spam\": [5, 1.62],\n",
    "    \"plastic wrap\": [3, 5.99],\n",
    "    \"toilet paper\": [6, 12.00]\n",
    "}\n",
    "for product in productsDict:\n",
    "    \n",
    "    print(f\"{product}\\nQty: {productsDict[product][0]} Price: {productsDict[product][1]}\\n\")\n",
    "    "
   ]
  },
  {
   "cell_type": "markdown",
   "metadata": {},
   "source": [
    "Replace the following code value with your for loop in the last code cell. (This was said before, this is just a reminder in case it was missed.)\n",
    "\n",
    "```python\n",
    "#Lines 30-34\n",
    "print(f\"{bananas}\\nQty: {bananasQty} Price: {bananasPrice}\")\n",
    "print(f\"{groundBeef}\\nQty: {groundBeefQty} Price: {groundBeefPrice}\")\n",
    "print(f\"{spam}\\nQty: {spamQty} Price: {spamPrice}\")\n",
    "print(f\"{plasticWrap}\\nQty: {plasticWrapQty} Price: {plasticWrapPrice}\")\n",
    "print(f\"{toiletPaper}\\nQty: {toiletPaperQty} Price: {toiletPaperPrice}\")\n",
    "```"
   ]
  },
  {
   "cell_type": "markdown",
   "metadata": {},
   "source": [
    "### Second dictionary usage!\n",
    "\n",
    "Use the same methods as above to replace the values below. Values that need changed are pointed out in the first part of the `if` statement. Remember that you can use a `for` loop!\n",
    "\n",
    "```python\n",
    "# Lines 42-58\n",
    " if desiredProduct == bananas: #replace the bananas value with a dictionary key\n",
    "    desiredProductCost = round(desiredProductQty * bananasPrice, 2) #replace the bananasPrice value with a dictionary value\n",
    "    bananasQty -= desiredProductQty\n",
    "elif desiredProduct == groundBeef:\n",
    "    desiredProductCost = round(desiredProductQty * groundBeefPrice, 2)\n",
    "    groundBeefQty -= desiredProductQty\n",
    "elif desiredProduct == spam:\n",
    "    desiredProductCost = round(desiredProductQty * spamPrice, 2)\n",
    "    spamQty -= desiredProductQty\n",
    "elif desiredProduct == plasticWrap:\n",
    "    desiredProductCost = round(desiredProductQty * plasticWrapPrice, 2)\n",
    "    plasticWrapQty -= desiredProductQty\n",
    "elif desiredProduct == toiletPaper:\n",
    "    desiredProductCost = round(desiredProductQty * toiletPaperPrice, 2)\n",
    "    toiletPaperQty -= desiredProductQty\n",
    "else:\n",
    "    print(\"Available product was not chosen!\")\n",
    "```"
   ]
  },
  {
   "cell_type": "markdown",
   "metadata": {},
   "source": [
    "### Checking user input\n",
    "\n",
    "Notice that the code above makes it easy to throw an error due to user input. What if the user enters a value that isn't intended to be used? This will allow the input but later throw an error because there are no values assigned.\n",
    "\n",
    "Look at the code above and use a loop to check user input. If the value is amongst accesible options, then the program can continue. If it is not, the user will be required to resubmit their answer until they use an appropriate answer. To help simplify capitalization errors, use .lower() on user input on the item name and use an `if` to validate that the item is available at the store, for the desired quantity, use an ` if ` statement to make sure the quantity value entered is a valid float."
   ]
  },
  {
   "cell_type": "code",
   "execution_count": null,
   "metadata": {},
   "outputs": [],
   "source": [
    "##Use .lower() on the input and use a combination of 'while' and 'if' statement to ensure the value entered is an existing key in the dictionary.\n",
    "##Remember that to exit the 'while' loop, there must be a condition result that is evaluated to 'false'\n",
    "\n",
    "#while a valid product is not chosen\n",
    "\n",
    "desiredProduct = input(f\"\\nWhat would you like to add to your cart?\")\n",
    "\n",
    "#if statement to verify the input is available in the dictionary\n",
    "#remember to set the valid product chosen to True if the item is available in the dictionary."
   ]
  },
  {
   "cell_type": "markdown",
   "metadata": {},
   "source": [
    "To test the desired product quantity, we will need to use a try block. If we try to check whether a string entered can be turned into a float, our program will fail with an error.\n",
    "\n",
    "A try block has the following components:\n",
    "\n",
    "```\n",
    "try: the code to run\n",
    "except: What you want to do if the code encounters an error\n",
    "else: what you want the code to do if there is not an error\n",
    "finally: what you want the code to do whether there is an error or not\n",
    "```"
   ]
  },
  {
   "cell_type": "code",
   "execution_count": 2,
   "metadata": {},
   "outputs": [
    {
     "name": "stdout",
     "output_type": "stream",
     "text": [
      "This is not a valid number.\n"
     ]
    }
   ],
   "source": [
    "#Use an if statement to apply a technique we learned in Week 1 to check the datatype of the result.\n",
    "\n",
    "try:\n",
    "    float(input(f\"\\nHow many {desiredProduct} would you like?\"))\n",
    "except:\n",
    "    #remove commented continue in the actual code. If there is an error, we want to restart the while loop\n",
    "    print(\"This is not a valid number.\")\n",
    "    #continue\n",
    "else:\n",
    "    #remove 'None' and add rest of code between this statement and the thank you statement\n",
    "    None"
   ]
  },
  {
   "cell_type": "markdown",
   "metadata": {},
   "source": [
    "Please replace the code at the float input statement and beyond with the code you wrote above."
   ]
  },
  {
   "cell_type": "markdown",
   "metadata": {},
   "source": [
    "### Confirming user input on your own\n",
    "\n",
    "There are a few other lines in our program that need to be validated from user input.\n",
    "\n",
    "This line is casted to a float to allow us to multiply it with the cost later. However, when the user\n",
    "is entering a value, we need to confirm that the value is an integer.\n",
    "\n",
    "```python\n",
    "#Line 38\n",
    "desiredProductQty = float(input(f\"\\nHow many {desiredProduct} would you like?\"))\n",
    "```\n",
    "\n",
    "On this line, we need to ensure the value entered is compatible with our code.\n",
    "Currently, we only check for \"N\" then loop everything else together and assume they want\n",
    "to add more items to their cart. What if the user enters \"n\" or \"No\" instead? We need to ensure\n",
    "their input aligns with our expected values, which we specify should be Y or N.\n",
    "```python\n",
    "#Line 64\n",
    "addItemsInput = input(\"Would you like to add more items to your cart? (Y/N)\")\n",
    "```\n"
   ]
  },
  {
   "cell_type": "markdown",
   "metadata": {},
   "source": [
    "### Other optimizations\n",
    "\n",
    "Looking at the code, do you see anything else that could be optimized? Take a look, make the changes, and bring your input to our next class!"
   ]
  },
  {
   "cell_type": "markdown",
   "metadata": {},
   "source": [
    "## Final Code"
   ]
  },
  {
   "cell_type": "code",
   "execution_count": null,
   "metadata": {},
   "outputs": [
    {
     "name": "stdout",
     "output_type": "stream",
     "text": [
      "Welcome to Code Mart!\n",
      "Here is a list of available products and their price:\n",
      "\n",
      "bananas\n",
      "Qty: 4 Price: 0.49\n",
      "ground beef\n",
      "Qty: 7 Price: 5.67\n",
      "spam\n",
      "Qty: 5 Price: 1.62\n",
      "plastic wrap\n",
      "Qty: 3 Price: 5.99\n",
      "toilet paper\n",
      "Qty: 6 Price: 12.0\n",
      "[2.0, 0.49]\n",
      "[0.0, 0.49]\n",
      "[-2.0, 0.49]\n",
      "[-4.0, 0.49]\n",
      "[-6.0, 0.49]\n",
      "bananas added to cart! $0.98 was added to your cart total.\n",
      "\n",
      "Thank you for shopping at Code Mart! Your total cost was $0.98.\n"
     ]
    }
   ],
   "source": [
    "\n",
    "\n",
    "\n",
    "cartTotal = 0.0\n",
    "\n",
    "addMoreItems = True\n",
    "\n",
    "print(\"Welcome to Code Mart!\")\n",
    "print(f\"Here is a list of available products and their price:\\n\")\n",
    "productsDict = {\n",
    "    \"bananas\": [4, 0.49],\n",
    "    \"ground beef\": [7, 5.67],\n",
    "    \"spam\": [5, 1.62],\n",
    "    \"plastic wrap\": [3, 5.99],\n",
    "    \"toilet paper\": [6, 12.00]\n",
    "    }\n",
    "for product in productsDict:\n",
    "        print(f\"{product}\\nQty: {productsDict[product][0]} Price: {productsDict[product][1]}\\n\")\n",
    "\n",
    "while addMoreItems:\n",
    "\n",
    "    \n",
    "\n",
    "    chosenProduct = True\n",
    "    while chosenProduct is True:\n",
    "        desiredProduct = input(f\"\\nWhat would you like to add to your cart?\").lower()\n",
    "        if desiredProduct not in list(productsDict.keys()):\n",
    "            print(\"We do not have that in stock.\")\n",
    "            continue\n",
    "        else:\n",
    "            chosenProduct = False\n",
    "            try:\n",
    "                desiredProductQty = float(input(f\"\\nHow many {desiredProduct} would you like?\"))\n",
    "            except:\n",
    "                print(\"That is not a valid number.\")\n",
    "                continue\n",
    "            else:\n",
    "                desiredProductCost = 0.0\n",
    "                for product in productsDict:\n",
    "                    if desiredProduct == \"bananas\":\n",
    "                        desiredProductCost = round(desiredProductQty * productsDict[\"bananas\"][1], 2)\n",
    "                        productsDict[\"bananas\"] = [productsDict.get(\"bananas\")[0] - desiredProductQty, productsDict.get(\"bananas\")[1]]\n",
    "                        print(productsDict[\"bananas\"])\n",
    "                    elif desiredProduct == \"ground beef\":\n",
    "                        desiredProductCost = round(desiredProductQty * productsDict[\"ground beef\"][1], 2)\n",
    "                        productsDict[\"ground beef\"] = [productsDict.get(\"ground beef\")[0] - desiredProductQty, productsDict.get(\"ground beef\")[1]]\n",
    "                    elif desiredProduct == productsDict[\"spam\"]:\n",
    "                        desiredProductCost = round(desiredProductQty * productsDict[\"spam\"][1], 2)\n",
    "                        productsDict[\"spam\"] = [productsDict.get(\"spam\")[0] - desiredProductQty, productsDict.get(\"spam\")[1]]\n",
    "                    elif desiredProduct == productsDict[\"plastic wrap\"]:\n",
    "                        desiredProductCost = round(desiredProductQty * productsDict[\"plastic wrap\"][1], 2)\n",
    "                        productsDict[\"plastic wrap\"] = [productsDict.get(\"plastic wrap\")[0] - desiredProductQty, productsDict.get(\"plastic wrap\")[1]]\n",
    "                    elif desiredProduct == productsDict[\"toilet paper\"]:\n",
    "                        desiredProductCost = round(desiredProductQty * productsDict[\"toilet paper\"][1], 2)\n",
    "                        productsDict[\"toilet paper\"] = [productsDict.get(\"toilet paper\")[0] - desiredProductQty, productsDict.get(\"toilet paper\")[1]]\n",
    "                    else:\n",
    "                        print(\"Available product was not chosen!\")\n",
    "    \n",
    "\n",
    "    cartTotal += desiredProductCost\n",
    "\n",
    "    print(f\"{desiredProduct} added to cart! ${desiredProductCost} was added to your cart total.\\n\")\n",
    "\n",
    "    addItemsInput = input(\"Would you like to add more items to your cart? (Y/N)\")\n",
    "\n",
    "    if addItemsInput == \"N\":\n",
    "        addMoreItems = False\n",
    "    else:\n",
    "        continue\n",
    "\n",
    "\n",
    "print(f\"Thank you for shopping at Code Mart! Your total cost was ${cartTotal}.\")"
   ]
  }
 ],
 "metadata": {
  "kernelspec": {
   "display_name": "Python 3",
   "language": "python",
   "name": "python3"
  },
  "language_info": {
   "codemirror_mode": {
    "name": "ipython",
    "version": 3
   },
   "file_extension": ".py",
   "mimetype": "text/x-python",
   "name": "python",
   "nbconvert_exporter": "python",
   "pygments_lexer": "ipython3",
   "version": "3.13.2"
  }
 },
 "nbformat": 4,
 "nbformat_minor": 2
}
